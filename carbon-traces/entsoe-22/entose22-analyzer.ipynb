{
 "cells": [
  {
   "cell_type": "code",
   "execution_count": 1,
   "id": "initial_id",
   "metadata": {
    "collapsed": true,
    "ExecuteTime": {
     "end_time": "2024-11-12T17:47:01.778790Z",
     "start_time": "2024-11-12T17:47:01.202988Z"
    }
   },
   "outputs": [],
   "source": [
    "import pandas as pd\n",
    "import numpy as np\n",
    "import matplotlib.pyplot as plt\n",
    "import math"
   ]
  },
  {
   "cell_type": "code",
   "outputs": [
    {
     "data": {
      "text/plain": "                timestamp  carbon_intensity\n0     2021-12-31 23:00:00        168.138693\n1     2021-12-31 23:15:00        167.050014\n2     2021-12-31 23:30:00        164.552936\n3     2021-12-31 23:45:00        167.493769\n4     2022-01-01 00:00:00        164.517793\n...                   ...               ...\n34939 2022-12-30 21:45:00         91.855611\n34940 2022-12-30 22:00:00         91.849933\n34941 2022-12-30 22:15:00         93.020656\n34942 2022-12-30 22:30:00         93.370508\n34943 2022-12-30 22:45:00         94.498418\n\n[34944 rows x 2 columns]",
      "text/html": "<div>\n<style scoped>\n    .dataframe tbody tr th:only-of-type {\n        vertical-align: middle;\n    }\n\n    .dataframe tbody tr th {\n        vertical-align: top;\n    }\n\n    .dataframe thead th {\n        text-align: right;\n    }\n</style>\n<table border=\"1\" class=\"dataframe\">\n  <thead>\n    <tr style=\"text-align: right;\">\n      <th></th>\n      <th>timestamp</th>\n      <th>carbon_intensity</th>\n    </tr>\n  </thead>\n  <tbody>\n    <tr>\n      <th>0</th>\n      <td>2021-12-31 23:00:00</td>\n      <td>168.138693</td>\n    </tr>\n    <tr>\n      <th>1</th>\n      <td>2021-12-31 23:15:00</td>\n      <td>167.050014</td>\n    </tr>\n    <tr>\n      <th>2</th>\n      <td>2021-12-31 23:30:00</td>\n      <td>164.552936</td>\n    </tr>\n    <tr>\n      <th>3</th>\n      <td>2021-12-31 23:45:00</td>\n      <td>167.493769</td>\n    </tr>\n    <tr>\n      <th>4</th>\n      <td>2022-01-01 00:00:00</td>\n      <td>164.517793</td>\n    </tr>\n    <tr>\n      <th>...</th>\n      <td>...</td>\n      <td>...</td>\n    </tr>\n    <tr>\n      <th>34939</th>\n      <td>2022-12-30 21:45:00</td>\n      <td>91.855611</td>\n    </tr>\n    <tr>\n      <th>34940</th>\n      <td>2022-12-30 22:00:00</td>\n      <td>91.849933</td>\n    </tr>\n    <tr>\n      <th>34941</th>\n      <td>2022-12-30 22:15:00</td>\n      <td>93.020656</td>\n    </tr>\n    <tr>\n      <th>34942</th>\n      <td>2022-12-30 22:30:00</td>\n      <td>93.370508</td>\n    </tr>\n    <tr>\n      <th>34943</th>\n      <td>2022-12-30 22:45:00</td>\n      <td>94.498418</td>\n    </tr>\n  </tbody>\n</table>\n<p>34944 rows × 2 columns</p>\n</div>"
     },
     "execution_count": 2,
     "metadata": {},
     "output_type": "execute_result"
    }
   ],
   "source": [
    "carbon = pd.read_parquet(\"carbon_2022.parquet\")\n",
    "carbon"
   ],
   "metadata": {
    "collapsed": false,
    "ExecuteTime": {
     "end_time": "2024-11-12T17:47:02.155625Z",
     "start_time": "2024-11-12T17:47:02.092766Z"
    }
   },
   "id": "91c576a89a8e9418",
   "execution_count": 2
  },
  {
   "cell_type": "code",
   "outputs": [
    {
     "name": "stdout",
     "output_type": "stream",
     "text": [
      "Trace duration: 363 days 23:45:00\n",
      "The trace starts at: 2021-12-31 23:00:00\n",
      "The trace ends at: 2022-12-30 22:45:00\n"
     ]
    }
   ],
   "source": [
    "# the duration of the trace (minimum timestamp to maximum timestamp)\n",
    "trace_duration = carbon[\"timestamp\"].max() - carbon[\"timestamp\"].min()\n",
    "\n",
    "print(f\"Trace duration: {trace_duration}\")\n",
    "print(f\"The trace starts at: {carbon['timestamp'].min()}\")\n",
    "print(f\"The trace ends at: {carbon['timestamp'].max()}\")"
   ],
   "metadata": {
    "collapsed": false,
    "ExecuteTime": {
     "end_time": "2024-11-12T17:48:05.779664Z",
     "start_time": "2024-11-12T17:48:05.773966Z"
    }
   },
   "id": "c79c8e05a7deaccf",
   "execution_count": 4
  },
  {
   "cell_type": "code",
   "outputs": [],
   "source": [],
   "metadata": {
    "collapsed": false
   },
   "id": "3a4c42e32b1019ff"
  }
 ],
 "metadata": {
  "kernelspec": {
   "display_name": "Python 3",
   "language": "python",
   "name": "python3"
  },
  "language_info": {
   "codemirror_mode": {
    "name": "ipython",
    "version": 2
   },
   "file_extension": ".py",
   "mimetype": "text/x-python",
   "name": "python",
   "nbconvert_exporter": "python",
   "pygments_lexer": "ipython2",
   "version": "2.7.6"
  }
 },
 "nbformat": 4,
 "nbformat_minor": 5
}
