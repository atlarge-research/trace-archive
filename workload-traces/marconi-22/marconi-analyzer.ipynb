{
 "cells": [
  {
   "cell_type": "code",
   "execution_count": 1,
   "id": "initial_id",
   "metadata": {
    "collapsed": true,
    "ExecuteTime": {
     "end_time": "2024-11-14T15:28:16.845657Z",
     "start_time": "2024-11-14T15:28:16.331790Z"
    }
   },
   "outputs": [],
   "source": [
    "import pandas as pd\n",
    "import numpy as np\n",
    "import matplotlib.pyplot as plt\n",
    "\n",
    "MILISECONDS_IN_HOUR = 3600000"
   ]
  },
  {
   "cell_type": "code",
   "outputs": [
    {
     "data": {
      "text/plain": "         duration  cpu_count    cpu_usage\nid                                       \n1001502   1040000       4992    5972736.0\n1001549  64920000     311616  221910528.0\n1004127    900000       4320    1608768.0\n1006354  86420000     414816   59470656.0\n1006448    980000       4704    3787392.0\n...           ...        ...          ...\n994591   86400000     414720  141540672.0\n994829    1000000       4800    5275200.0\n997967     320000       1536     155904.0\n999800   78780000     378144  346610880.0\n999817     380000       1824    3036096.0\n\n[8376 rows x 3 columns]",
      "text/html": "<div>\n<style scoped>\n    .dataframe tbody tr th:only-of-type {\n        vertical-align: middle;\n    }\n\n    .dataframe tbody tr th {\n        vertical-align: top;\n    }\n\n    .dataframe thead th {\n        text-align: right;\n    }\n</style>\n<table border=\"1\" class=\"dataframe\">\n  <thead>\n    <tr style=\"text-align: right;\">\n      <th></th>\n      <th>duration</th>\n      <th>cpu_count</th>\n      <th>cpu_usage</th>\n    </tr>\n    <tr>\n      <th>id</th>\n      <th></th>\n      <th></th>\n      <th></th>\n    </tr>\n  </thead>\n  <tbody>\n    <tr>\n      <th>1001502</th>\n      <td>1040000</td>\n      <td>4992</td>\n      <td>5972736.0</td>\n    </tr>\n    <tr>\n      <th>1001549</th>\n      <td>64920000</td>\n      <td>311616</td>\n      <td>221910528.0</td>\n    </tr>\n    <tr>\n      <th>1004127</th>\n      <td>900000</td>\n      <td>4320</td>\n      <td>1608768.0</td>\n    </tr>\n    <tr>\n      <th>1006354</th>\n      <td>86420000</td>\n      <td>414816</td>\n      <td>59470656.0</td>\n    </tr>\n    <tr>\n      <th>1006448</th>\n      <td>980000</td>\n      <td>4704</td>\n      <td>3787392.0</td>\n    </tr>\n    <tr>\n      <th>...</th>\n      <td>...</td>\n      <td>...</td>\n      <td>...</td>\n    </tr>\n    <tr>\n      <th>994591</th>\n      <td>86400000</td>\n      <td>414720</td>\n      <td>141540672.0</td>\n    </tr>\n    <tr>\n      <th>994829</th>\n      <td>1000000</td>\n      <td>4800</td>\n      <td>5275200.0</td>\n    </tr>\n    <tr>\n      <th>997967</th>\n      <td>320000</td>\n      <td>1536</td>\n      <td>155904.0</td>\n    </tr>\n    <tr>\n      <th>999800</th>\n      <td>78780000</td>\n      <td>378144</td>\n      <td>346610880.0</td>\n    </tr>\n    <tr>\n      <th>999817</th>\n      <td>380000</td>\n      <td>1824</td>\n      <td>3036096.0</td>\n    </tr>\n  </tbody>\n</table>\n<p>8376 rows × 3 columns</p>\n</div>"
     },
     "execution_count": 2,
     "metadata": {},
     "output_type": "execute_result"
    }
   ],
   "source": [
    "fragments = pd.read_parquet('fragments.parquet').groupby('id').sum()\n",
    "fragments"
   ],
   "metadata": {
    "collapsed": false,
    "ExecuteTime": {
     "end_time": "2024-11-14T15:28:17.422200Z",
     "start_time": "2024-11-14T15:28:16.846647Z"
    }
   },
   "id": "50e670b9db355b4b",
   "execution_count": 2
  },
  {
   "cell_type": "code",
   "outputs": [
    {
     "data": {
      "text/plain": "           id     submission_time  duration  cpu_count  cpu_capacity  \\\n0      354695 2022-09-12 00:44:44  43172000         96      201600.0   \n1     5322138 2022-09-12 11:10:06   1050000         96      201600.0   \n2     2979308 2022-09-12 12:31:46    628000         96      201600.0   \n3     2872246 2022-09-12 13:05:31   1588000         96      201600.0   \n4      821602 2022-09-12 13:09:26  68034000         96      201600.0   \n...       ...                 ...       ...        ...           ...   \n8371  2088308 2022-09-15 07:43:11    357000         96      201600.0   \n8372  1394750 2022-09-15 08:27:36    382000         96      201600.0   \n8373  4906495 2022-09-15 16:40:51   7200000         96      201600.0   \n8374  5667091 2022-09-15 08:35:40    828000         96      201600.0   \n8375  2246801 2022-09-15 07:21:07    249000         96      201600.0   \n\n      mem_capacity  \n0           100000  \n1           100000  \n2           100000  \n3           100000  \n4           100000  \n...            ...  \n8371        100000  \n8372        100000  \n8373        100000  \n8374        100000  \n8375        100000  \n\n[8376 rows x 6 columns]",
      "text/html": "<div>\n<style scoped>\n    .dataframe tbody tr th:only-of-type {\n        vertical-align: middle;\n    }\n\n    .dataframe tbody tr th {\n        vertical-align: top;\n    }\n\n    .dataframe thead th {\n        text-align: right;\n    }\n</style>\n<table border=\"1\" class=\"dataframe\">\n  <thead>\n    <tr style=\"text-align: right;\">\n      <th></th>\n      <th>id</th>\n      <th>submission_time</th>\n      <th>duration</th>\n      <th>cpu_count</th>\n      <th>cpu_capacity</th>\n      <th>mem_capacity</th>\n    </tr>\n  </thead>\n  <tbody>\n    <tr>\n      <th>0</th>\n      <td>354695</td>\n      <td>2022-09-12 00:44:44</td>\n      <td>43172000</td>\n      <td>96</td>\n      <td>201600.0</td>\n      <td>100000</td>\n    </tr>\n    <tr>\n      <th>1</th>\n      <td>5322138</td>\n      <td>2022-09-12 11:10:06</td>\n      <td>1050000</td>\n      <td>96</td>\n      <td>201600.0</td>\n      <td>100000</td>\n    </tr>\n    <tr>\n      <th>2</th>\n      <td>2979308</td>\n      <td>2022-09-12 12:31:46</td>\n      <td>628000</td>\n      <td>96</td>\n      <td>201600.0</td>\n      <td>100000</td>\n    </tr>\n    <tr>\n      <th>3</th>\n      <td>2872246</td>\n      <td>2022-09-12 13:05:31</td>\n      <td>1588000</td>\n      <td>96</td>\n      <td>201600.0</td>\n      <td>100000</td>\n    </tr>\n    <tr>\n      <th>4</th>\n      <td>821602</td>\n      <td>2022-09-12 13:09:26</td>\n      <td>68034000</td>\n      <td>96</td>\n      <td>201600.0</td>\n      <td>100000</td>\n    </tr>\n    <tr>\n      <th>...</th>\n      <td>...</td>\n      <td>...</td>\n      <td>...</td>\n      <td>...</td>\n      <td>...</td>\n      <td>...</td>\n    </tr>\n    <tr>\n      <th>8371</th>\n      <td>2088308</td>\n      <td>2022-09-15 07:43:11</td>\n      <td>357000</td>\n      <td>96</td>\n      <td>201600.0</td>\n      <td>100000</td>\n    </tr>\n    <tr>\n      <th>8372</th>\n      <td>1394750</td>\n      <td>2022-09-15 08:27:36</td>\n      <td>382000</td>\n      <td>96</td>\n      <td>201600.0</td>\n      <td>100000</td>\n    </tr>\n    <tr>\n      <th>8373</th>\n      <td>4906495</td>\n      <td>2022-09-15 16:40:51</td>\n      <td>7200000</td>\n      <td>96</td>\n      <td>201600.0</td>\n      <td>100000</td>\n    </tr>\n    <tr>\n      <th>8374</th>\n      <td>5667091</td>\n      <td>2022-09-15 08:35:40</td>\n      <td>828000</td>\n      <td>96</td>\n      <td>201600.0</td>\n      <td>100000</td>\n    </tr>\n    <tr>\n      <th>8375</th>\n      <td>2246801</td>\n      <td>2022-09-15 07:21:07</td>\n      <td>249000</td>\n      <td>96</td>\n      <td>201600.0</td>\n      <td>100000</td>\n    </tr>\n  </tbody>\n</table>\n<p>8376 rows × 6 columns</p>\n</div>"
     },
     "execution_count": 3,
     "metadata": {},
     "output_type": "execute_result"
    }
   ],
   "source": [
    "tasks = pd.read_parquet('tasks.parquet')\n",
    "tasks"
   ],
   "metadata": {
    "collapsed": false,
    "ExecuteTime": {
     "end_time": "2024-11-14T15:28:17.430155Z",
     "start_time": "2024-11-14T15:28:17.422892Z"
    }
   },
   "id": "93eeeead6923336",
   "execution_count": 3
  },
  {
   "cell_type": "code",
   "outputs": [
    {
     "name": "stdout",
     "output_type": "stream",
     "text": [
      "Total CPU hours: 4743283.893333334\n"
     ]
    }
   ],
   "source": [
    "tasks['cpu_hours'] = (tasks['cpu_count'] * tasks['duration']) / MILISECONDS_IN_HOUR\n",
    "total_cpu_hours = tasks['cpu_hours'].sum()\n",
    "\n",
    "print(f\"Total CPU hours: {total_cpu_hours}\")"
   ],
   "metadata": {
    "collapsed": false,
    "ExecuteTime": {
     "end_time": "2024-11-14T15:28:17.433520Z",
     "start_time": "2024-11-14T15:28:17.430809Z"
    }
   },
   "id": "598d2bd1f6d91139",
   "execution_count": 4
  },
  {
   "cell_type": "code",
   "outputs": [
    {
     "name": "stdout",
     "output_type": "stream",
     "text": [
      "First job: 2022-08-31 04:40:10\n",
      "Last job: 2022-09-28 21:49:28\n",
      "Duration at job 7665: 20.496111111111112\n"
     ]
    }
   ],
   "source": [
    "# period of operation\n",
    "\n",
    "# first job is the one with the lower submission_time\n",
    "first_job = tasks['submission_time'].min()\n",
    "# last job is the one with the higher submission_time + duration at the job number 7665\n",
    "\n",
    "last_job = tasks['submission_time'].max() \n",
    "duration_at = tasks['duration'].iloc[7665] / MILISECONDS_IN_HOUR\n",
    "\n",
    "print(f\"First job: {first_job}\")\n",
    "print(f\"Last job: {last_job}\")\n",
    "print(f\"Duration at job 7665: {duration_at}\")"
   ],
   "metadata": {
    "collapsed": false,
    "ExecuteTime": {
     "end_time": "2024-11-14T15:28:17.437255Z",
     "start_time": "2024-11-14T15:28:17.434790Z"
    }
   },
   "id": "7da2a88f669c802f",
   "execution_count": 5
  },
  {
   "cell_type": "code",
   "outputs": [
    {
     "ename": "KeyError",
     "evalue": "'id'",
     "output_type": "error",
     "traceback": [
      "\u001B[0;31m---------------------------------------------------------------------------\u001B[0m",
      "\u001B[0;31mKeyError\u001B[0m                                  Traceback (most recent call last)",
      "File \u001B[0;32m/opt/homebrew/lib/python3.11/site-packages/pandas/core/indexes/base.py:3805\u001B[0m, in \u001B[0;36mIndex.get_loc\u001B[0;34m(self, key)\u001B[0m\n\u001B[1;32m   3804\u001B[0m \u001B[38;5;28;01mtry\u001B[39;00m:\n\u001B[0;32m-> 3805\u001B[0m     \u001B[38;5;28;01mreturn\u001B[39;00m \u001B[38;5;28;43mself\u001B[39;49m\u001B[38;5;241;43m.\u001B[39;49m\u001B[43m_engine\u001B[49m\u001B[38;5;241;43m.\u001B[39;49m\u001B[43mget_loc\u001B[49m\u001B[43m(\u001B[49m\u001B[43mcasted_key\u001B[49m\u001B[43m)\u001B[49m\n\u001B[1;32m   3806\u001B[0m \u001B[38;5;28;01mexcept\u001B[39;00m \u001B[38;5;167;01mKeyError\u001B[39;00m \u001B[38;5;28;01mas\u001B[39;00m err:\n",
      "File \u001B[0;32mindex.pyx:167\u001B[0m, in \u001B[0;36mpandas._libs.index.IndexEngine.get_loc\u001B[0;34m()\u001B[0m\n",
      "File \u001B[0;32mindex.pyx:196\u001B[0m, in \u001B[0;36mpandas._libs.index.IndexEngine.get_loc\u001B[0;34m()\u001B[0m\n",
      "File \u001B[0;32mpandas/_libs/hashtable_class_helper.pxi:7081\u001B[0m, in \u001B[0;36mpandas._libs.hashtable.PyObjectHashTable.get_item\u001B[0;34m()\u001B[0m\n",
      "File \u001B[0;32mpandas/_libs/hashtable_class_helper.pxi:7089\u001B[0m, in \u001B[0;36mpandas._libs.hashtable.PyObjectHashTable.get_item\u001B[0;34m()\u001B[0m\n",
      "\u001B[0;31mKeyError\u001B[0m: 'id'",
      "\nThe above exception was the direct cause of the following exception:\n",
      "\u001B[0;31mKeyError\u001B[0m                                  Traceback (most recent call last)",
      "Cell \u001B[0;32mIn[6], line 1\u001B[0m\n\u001B[0;32m----> 1\u001B[0m distinct_hosts \u001B[38;5;241m=\u001B[39m \u001B[43mfragments\u001B[49m\u001B[43m[\u001B[49m\u001B[38;5;124;43m'\u001B[39;49m\u001B[38;5;124;43mid\u001B[39;49m\u001B[38;5;124;43m'\u001B[39;49m\u001B[43m]\u001B[49m\u001B[38;5;241m.\u001B[39mnunique()\n",
      "File \u001B[0;32m/opt/homebrew/lib/python3.11/site-packages/pandas/core/frame.py:4102\u001B[0m, in \u001B[0;36mDataFrame.__getitem__\u001B[0;34m(self, key)\u001B[0m\n\u001B[1;32m   4100\u001B[0m \u001B[38;5;28;01mif\u001B[39;00m \u001B[38;5;28mself\u001B[39m\u001B[38;5;241m.\u001B[39mcolumns\u001B[38;5;241m.\u001B[39mnlevels \u001B[38;5;241m>\u001B[39m \u001B[38;5;241m1\u001B[39m:\n\u001B[1;32m   4101\u001B[0m     \u001B[38;5;28;01mreturn\u001B[39;00m \u001B[38;5;28mself\u001B[39m\u001B[38;5;241m.\u001B[39m_getitem_multilevel(key)\n\u001B[0;32m-> 4102\u001B[0m indexer \u001B[38;5;241m=\u001B[39m \u001B[38;5;28;43mself\u001B[39;49m\u001B[38;5;241;43m.\u001B[39;49m\u001B[43mcolumns\u001B[49m\u001B[38;5;241;43m.\u001B[39;49m\u001B[43mget_loc\u001B[49m\u001B[43m(\u001B[49m\u001B[43mkey\u001B[49m\u001B[43m)\u001B[49m\n\u001B[1;32m   4103\u001B[0m \u001B[38;5;28;01mif\u001B[39;00m is_integer(indexer):\n\u001B[1;32m   4104\u001B[0m     indexer \u001B[38;5;241m=\u001B[39m [indexer]\n",
      "File \u001B[0;32m/opt/homebrew/lib/python3.11/site-packages/pandas/core/indexes/base.py:3812\u001B[0m, in \u001B[0;36mIndex.get_loc\u001B[0;34m(self, key)\u001B[0m\n\u001B[1;32m   3807\u001B[0m     \u001B[38;5;28;01mif\u001B[39;00m \u001B[38;5;28misinstance\u001B[39m(casted_key, \u001B[38;5;28mslice\u001B[39m) \u001B[38;5;129;01mor\u001B[39;00m (\n\u001B[1;32m   3808\u001B[0m         \u001B[38;5;28misinstance\u001B[39m(casted_key, abc\u001B[38;5;241m.\u001B[39mIterable)\n\u001B[1;32m   3809\u001B[0m         \u001B[38;5;129;01mand\u001B[39;00m \u001B[38;5;28many\u001B[39m(\u001B[38;5;28misinstance\u001B[39m(x, \u001B[38;5;28mslice\u001B[39m) \u001B[38;5;28;01mfor\u001B[39;00m x \u001B[38;5;129;01min\u001B[39;00m casted_key)\n\u001B[1;32m   3810\u001B[0m     ):\n\u001B[1;32m   3811\u001B[0m         \u001B[38;5;28;01mraise\u001B[39;00m InvalidIndexError(key)\n\u001B[0;32m-> 3812\u001B[0m     \u001B[38;5;28;01mraise\u001B[39;00m \u001B[38;5;167;01mKeyError\u001B[39;00m(key) \u001B[38;5;28;01mfrom\u001B[39;00m \u001B[38;5;21;01merr\u001B[39;00m\n\u001B[1;32m   3813\u001B[0m \u001B[38;5;28;01mexcept\u001B[39;00m \u001B[38;5;167;01mTypeError\u001B[39;00m:\n\u001B[1;32m   3814\u001B[0m     \u001B[38;5;66;03m# If we have a listlike key, _check_indexing_error will raise\u001B[39;00m\n\u001B[1;32m   3815\u001B[0m     \u001B[38;5;66;03m#  InvalidIndexError. Otherwise we fall through and re-raise\u001B[39;00m\n\u001B[1;32m   3816\u001B[0m     \u001B[38;5;66;03m#  the TypeError.\u001B[39;00m\n\u001B[1;32m   3817\u001B[0m     \u001B[38;5;28mself\u001B[39m\u001B[38;5;241m.\u001B[39m_check_indexing_error(key)\n",
      "\u001B[0;31mKeyError\u001B[0m: 'id'"
     ]
    }
   ],
   "source": [],
   "metadata": {
    "collapsed": false,
    "ExecuteTime": {
     "end_time": "2024-11-14T15:28:17.774815Z",
     "start_time": "2024-11-14T15:28:17.437921Z"
    }
   },
   "id": "858ca09749079f97",
   "execution_count": 6
  },
  {
   "cell_type": "code",
   "outputs": [],
   "source": [],
   "metadata": {
    "collapsed": false,
    "ExecuteTime": {
     "end_time": "2024-11-14T15:28:17.775718Z",
     "start_time": "2024-11-14T15:28:17.775648Z"
    }
   },
   "id": "156c3ca2474c98ea"
  }
 ],
 "metadata": {
  "kernelspec": {
   "display_name": "Python 3",
   "language": "python",
   "name": "python3"
  },
  "language_info": {
   "codemirror_mode": {
    "name": "ipython",
    "version": 2
   },
   "file_extension": ".py",
   "mimetype": "text/x-python",
   "name": "python",
   "nbconvert_exporter": "python",
   "pygments_lexer": "ipython2",
   "version": "2.7.6"
  }
 },
 "nbformat": 4,
 "nbformat_minor": 5
}
