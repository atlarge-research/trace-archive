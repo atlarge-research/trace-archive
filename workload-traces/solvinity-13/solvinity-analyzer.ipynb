{
 "cells": [
  {
   "cell_type": "code",
   "execution_count": 3,
   "id": "initial_id",
   "metadata": {
    "collapsed": true,
    "ExecuteTime": {
     "end_time": "2024-11-11T23:35:58.121441Z",
     "start_time": "2024-11-11T23:35:57.217471Z"
    }
   },
   "outputs": [],
   "source": [
    "import pandas as pd\n",
    "import numpy as np\n",
    "import matplotlib.pyplot as plt\n",
    "import math\n",
    "MILISECONDS_IN_HOUR = 3600000\n",
    "\n"
   ]
  },
  {
   "cell_type": "code",
   "outputs": [],
   "source": [
    "fragments = pd.read_parquet(\"fragments.parquet\")\n",
    "tasks = pd.read_parquet(\"tasks.parquet\")"
   ],
   "metadata": {
    "collapsed": false,
    "ExecuteTime": {
     "end_time": "2024-11-11T23:35:58.205611Z",
     "start_time": "2024-11-11T23:35:58.122451Z"
    }
   },
   "id": "f66c34ce2029cf30",
   "execution_count": 4
  },
  {
   "cell_type": "code",
   "outputs": [
    {
     "data": {
      "text/plain": "        duration  cpu_count     cpu_usage\nid                                       \n1019  2592252000       6148  3.344239e+04\n1023  2592252000       5106  2.734402e+04\n1026  2592252000       7348  1.999994e+05\n1052   577855000        839  4.740120e+03\n1073  1823566000       4574  2.260175e+04\n1129  2592252000       5420  2.885690e+04\n1132  1909074000       4604  2.499375e+04\n1138  2592252000       7309  1.754719e+05\n1147  2592252000       6167  2.965456e+04\n1152  2592252000       6146  3.303955e+04\n116   2592252000      30228  1.278552e+06\n1247  2592252000        232  2.606534e+05\n141   2592252000       9642  2.550691e+05\n190   2592252000      55352  1.001996e+08\n205   2592252000      53488  1.003816e+08\n242   2592252000      61688  8.417834e+07\n244   2592252000      60688  8.506723e+07\n272   2592252000      59392  8.105573e+07\n281   2592252000      59984  7.737564e+07\n308    625260000       3970  2.393714e+04\n323   2592252000      16390  1.165797e+06\n331   1736858000      22276  1.060878e+06\n378   2592252000      13574  6.731652e+05\n379   2592252000      13494  6.212666e+05\n449   2592252000      29392  1.518786e+06\n463   2592252000      27436  1.063564e+06\n466   2592252000      27352  9.748220e+05\n467   2592252000      28628  1.179353e+06\n501   2592252000      28208  1.144459e+06\n506   2592252000      29272  1.387630e+06\n550   2592252000       8525  4.069724e+04\n554   2592252000       3324  3.555772e+05\n557    577255000       1825  8.527455e+03\n578   2592252000        543  3.930331e+03\n607   2592252000       7514  4.374084e+05\n626   2592252000      12652  1.611006e+07\n636   2592252000      11524  1.555803e+07\n677   2592252000      24826  3.408454e+06\n720   2592252000      63616  7.840083e+04\n740   2592252000     268832  1.222368e+07\n750   2592252000      63544  2.450490e+06\n796   2592252000       4184  1.930301e+05\n832   2592252000       7050  9.489540e+04\n841   2592252000       4198  2.856500e+04\n851   2592252000       6342  1.762681e+05\n857   2592252000       1492  1.875985e+04\n871   2592252000      32168  5.411085e+06\n915   2592252000        764  5.454799e+03\n957   2592252000      11140  9.471677e+05\n997   2592252000      69072  7.942797e+07",
      "text/html": "<div>\n<style scoped>\n    .dataframe tbody tr th:only-of-type {\n        vertical-align: middle;\n    }\n\n    .dataframe tbody tr th {\n        vertical-align: top;\n    }\n\n    .dataframe thead th {\n        text-align: right;\n    }\n</style>\n<table border=\"1\" class=\"dataframe\">\n  <thead>\n    <tr style=\"text-align: right;\">\n      <th></th>\n      <th>duration</th>\n      <th>cpu_count</th>\n      <th>cpu_usage</th>\n    </tr>\n    <tr>\n      <th>id</th>\n      <th></th>\n      <th></th>\n      <th></th>\n    </tr>\n  </thead>\n  <tbody>\n    <tr>\n      <th>1019</th>\n      <td>2592252000</td>\n      <td>6148</td>\n      <td>3.344239e+04</td>\n    </tr>\n    <tr>\n      <th>1023</th>\n      <td>2592252000</td>\n      <td>5106</td>\n      <td>2.734402e+04</td>\n    </tr>\n    <tr>\n      <th>1026</th>\n      <td>2592252000</td>\n      <td>7348</td>\n      <td>1.999994e+05</td>\n    </tr>\n    <tr>\n      <th>1052</th>\n      <td>577855000</td>\n      <td>839</td>\n      <td>4.740120e+03</td>\n    </tr>\n    <tr>\n      <th>1073</th>\n      <td>1823566000</td>\n      <td>4574</td>\n      <td>2.260175e+04</td>\n    </tr>\n    <tr>\n      <th>1129</th>\n      <td>2592252000</td>\n      <td>5420</td>\n      <td>2.885690e+04</td>\n    </tr>\n    <tr>\n      <th>1132</th>\n      <td>1909074000</td>\n      <td>4604</td>\n      <td>2.499375e+04</td>\n    </tr>\n    <tr>\n      <th>1138</th>\n      <td>2592252000</td>\n      <td>7309</td>\n      <td>1.754719e+05</td>\n    </tr>\n    <tr>\n      <th>1147</th>\n      <td>2592252000</td>\n      <td>6167</td>\n      <td>2.965456e+04</td>\n    </tr>\n    <tr>\n      <th>1152</th>\n      <td>2592252000</td>\n      <td>6146</td>\n      <td>3.303955e+04</td>\n    </tr>\n    <tr>\n      <th>116</th>\n      <td>2592252000</td>\n      <td>30228</td>\n      <td>1.278552e+06</td>\n    </tr>\n    <tr>\n      <th>1247</th>\n      <td>2592252000</td>\n      <td>232</td>\n      <td>2.606534e+05</td>\n    </tr>\n    <tr>\n      <th>141</th>\n      <td>2592252000</td>\n      <td>9642</td>\n      <td>2.550691e+05</td>\n    </tr>\n    <tr>\n      <th>190</th>\n      <td>2592252000</td>\n      <td>55352</td>\n      <td>1.001996e+08</td>\n    </tr>\n    <tr>\n      <th>205</th>\n      <td>2592252000</td>\n      <td>53488</td>\n      <td>1.003816e+08</td>\n    </tr>\n    <tr>\n      <th>242</th>\n      <td>2592252000</td>\n      <td>61688</td>\n      <td>8.417834e+07</td>\n    </tr>\n    <tr>\n      <th>244</th>\n      <td>2592252000</td>\n      <td>60688</td>\n      <td>8.506723e+07</td>\n    </tr>\n    <tr>\n      <th>272</th>\n      <td>2592252000</td>\n      <td>59392</td>\n      <td>8.105573e+07</td>\n    </tr>\n    <tr>\n      <th>281</th>\n      <td>2592252000</td>\n      <td>59984</td>\n      <td>7.737564e+07</td>\n    </tr>\n    <tr>\n      <th>308</th>\n      <td>625260000</td>\n      <td>3970</td>\n      <td>2.393714e+04</td>\n    </tr>\n    <tr>\n      <th>323</th>\n      <td>2592252000</td>\n      <td>16390</td>\n      <td>1.165797e+06</td>\n    </tr>\n    <tr>\n      <th>331</th>\n      <td>1736858000</td>\n      <td>22276</td>\n      <td>1.060878e+06</td>\n    </tr>\n    <tr>\n      <th>378</th>\n      <td>2592252000</td>\n      <td>13574</td>\n      <td>6.731652e+05</td>\n    </tr>\n    <tr>\n      <th>379</th>\n      <td>2592252000</td>\n      <td>13494</td>\n      <td>6.212666e+05</td>\n    </tr>\n    <tr>\n      <th>449</th>\n      <td>2592252000</td>\n      <td>29392</td>\n      <td>1.518786e+06</td>\n    </tr>\n    <tr>\n      <th>463</th>\n      <td>2592252000</td>\n      <td>27436</td>\n      <td>1.063564e+06</td>\n    </tr>\n    <tr>\n      <th>466</th>\n      <td>2592252000</td>\n      <td>27352</td>\n      <td>9.748220e+05</td>\n    </tr>\n    <tr>\n      <th>467</th>\n      <td>2592252000</td>\n      <td>28628</td>\n      <td>1.179353e+06</td>\n    </tr>\n    <tr>\n      <th>501</th>\n      <td>2592252000</td>\n      <td>28208</td>\n      <td>1.144459e+06</td>\n    </tr>\n    <tr>\n      <th>506</th>\n      <td>2592252000</td>\n      <td>29272</td>\n      <td>1.387630e+06</td>\n    </tr>\n    <tr>\n      <th>550</th>\n      <td>2592252000</td>\n      <td>8525</td>\n      <td>4.069724e+04</td>\n    </tr>\n    <tr>\n      <th>554</th>\n      <td>2592252000</td>\n      <td>3324</td>\n      <td>3.555772e+05</td>\n    </tr>\n    <tr>\n      <th>557</th>\n      <td>577255000</td>\n      <td>1825</td>\n      <td>8.527455e+03</td>\n    </tr>\n    <tr>\n      <th>578</th>\n      <td>2592252000</td>\n      <td>543</td>\n      <td>3.930331e+03</td>\n    </tr>\n    <tr>\n      <th>607</th>\n      <td>2592252000</td>\n      <td>7514</td>\n      <td>4.374084e+05</td>\n    </tr>\n    <tr>\n      <th>626</th>\n      <td>2592252000</td>\n      <td>12652</td>\n      <td>1.611006e+07</td>\n    </tr>\n    <tr>\n      <th>636</th>\n      <td>2592252000</td>\n      <td>11524</td>\n      <td>1.555803e+07</td>\n    </tr>\n    <tr>\n      <th>677</th>\n      <td>2592252000</td>\n      <td>24826</td>\n      <td>3.408454e+06</td>\n    </tr>\n    <tr>\n      <th>720</th>\n      <td>2592252000</td>\n      <td>63616</td>\n      <td>7.840083e+04</td>\n    </tr>\n    <tr>\n      <th>740</th>\n      <td>2592252000</td>\n      <td>268832</td>\n      <td>1.222368e+07</td>\n    </tr>\n    <tr>\n      <th>750</th>\n      <td>2592252000</td>\n      <td>63544</td>\n      <td>2.450490e+06</td>\n    </tr>\n    <tr>\n      <th>796</th>\n      <td>2592252000</td>\n      <td>4184</td>\n      <td>1.930301e+05</td>\n    </tr>\n    <tr>\n      <th>832</th>\n      <td>2592252000</td>\n      <td>7050</td>\n      <td>9.489540e+04</td>\n    </tr>\n    <tr>\n      <th>841</th>\n      <td>2592252000</td>\n      <td>4198</td>\n      <td>2.856500e+04</td>\n    </tr>\n    <tr>\n      <th>851</th>\n      <td>2592252000</td>\n      <td>6342</td>\n      <td>1.762681e+05</td>\n    </tr>\n    <tr>\n      <th>857</th>\n      <td>2592252000</td>\n      <td>1492</td>\n      <td>1.875985e+04</td>\n    </tr>\n    <tr>\n      <th>871</th>\n      <td>2592252000</td>\n      <td>32168</td>\n      <td>5.411085e+06</td>\n    </tr>\n    <tr>\n      <th>915</th>\n      <td>2592252000</td>\n      <td>764</td>\n      <td>5.454799e+03</td>\n    </tr>\n    <tr>\n      <th>957</th>\n      <td>2592252000</td>\n      <td>11140</td>\n      <td>9.471677e+05</td>\n    </tr>\n    <tr>\n      <th>997</th>\n      <td>2592252000</td>\n      <td>69072</td>\n      <td>7.942797e+07</td>\n    </tr>\n  </tbody>\n</table>\n</div>"
     },
     "execution_count": 5,
     "metadata": {},
     "output_type": "execute_result"
    }
   ],
   "source": [
    "fragments = fragments.groupby(\"id\").sum()\n",
    "fragments"
   ],
   "metadata": {
    "collapsed": false,
    "ExecuteTime": {
     "end_time": "2024-11-11T23:35:58.231129Z",
     "start_time": "2024-11-11T23:35:58.207348Z"
    }
   },
   "id": "74f2716ede5a1da3",
   "execution_count": 5
  },
  {
   "cell_type": "code",
   "outputs": [
    {
     "name": "stdout",
     "output_type": "stream",
     "text": [
      "Average job duration in hours: 673.9386444444444\n"
     ]
    }
   ],
   "source": [
    "# avergage job duration\n",
    "average_job_duration = fragments['duration'].mean()\n",
    "print(f\"Average job duration in hours: {average_job_duration / MILISECONDS_IN_HOUR}\")"
   ],
   "metadata": {
    "collapsed": false,
    "ExecuteTime": {
     "end_time": "2024-11-11T23:36:04.160190Z",
     "start_time": "2024-11-11T23:36:04.157260Z"
    }
   },
   "id": "4048b80a889a62a3",
   "execution_count": 6
  },
  {
   "cell_type": "code",
   "outputs": [
    {
     "data": {
      "text/plain": "      id     submission_time    duration  cpu_count  cpu_capacity  \\\n0   1019 2013-08-12 13:35:46  2592252000          1   2926.000135   \n1   1023 2013-08-12 13:35:46  2592252000          1   2925.999560   \n2   1026 2013-08-12 13:35:46  2592252000          1   2925.999717   \n3   1052 2013-08-29 14:38:12   577855000          1   2926.000107   \n4   1073 2013-08-21 11:07:12  1823566000          1   2599.999649   \n5   1129 2013-08-12 13:35:46  2592252000          1   2925.999494   \n6   1132 2013-08-20 11:22:04  1909074000          1   2925.999318   \n7   1138 2013-08-12 13:35:46  2592252000          1   2599.999602   \n8   1147 2013-08-12 13:35:46  2592252000          1   2599.999649   \n9   1152 2013-08-12 13:35:46  2592252000          1   2925.999560   \n10   116 2013-08-12 13:35:46  2592252000          4  11703.997664   \n11  1247 2013-08-12 13:35:46  2592252000          4  10399.997352   \n12   141 2013-08-12 13:35:46  2592252000          2   5851.998636   \n13   190 2013-08-12 13:35:46  2592252000          8  20799.999608   \n14   205 2013-08-12 13:35:46  2592252000          8  20799.999608   \n15   242 2013-08-12 13:35:46  2592252000          8  20799.996968   \n16   244 2013-08-12 13:35:46  2592252000          8  20799.994648   \n17   272 2013-08-12 13:35:46  2592252000          8  20799.997032   \n18   281 2013-08-12 13:35:46  2592252000          8  20799.996936   \n19   308 2013-09-04 07:58:58   625260000          2   5199.999902   \n20   323 2013-08-12 13:35:46  2592252000          2   5199.999298   \n21   331 2013-08-22 11:12:20  1736858000          4  10799.996356   \n22   378 2013-08-12 13:35:46  2592252000          2   5199.999280   \n23   379 2013-08-12 13:35:46  2592252000          2   5199.999270   \n24   449 2013-08-12 13:35:46  2592252000          4  10399.998520   \n25   463 2013-08-12 13:35:46  2592252000          4  10399.998504   \n26   466 2013-08-12 13:35:46  2592252000          4  10399.997372   \n27   467 2013-08-12 13:35:46  2592252000          4  10399.998408   \n28   501 2013-08-12 13:35:46  2592252000          4  10399.999796   \n29   506 2013-08-12 13:35:46  2592252000          4  10399.998452   \n30   550 2013-08-12 13:35:46  2592252000          1   2599.999951   \n31   554 2013-08-12 13:35:46  2592252000          1   2926.000135   \n32   557 2013-08-29 14:28:12   577255000          1   2926.000121   \n33   578 2013-08-12 13:35:46  2592252000          1   2599.999626   \n34   607 2013-08-12 13:35:46  2592252000          1   2599.999626   \n35   626 2013-08-12 13:35:46  2592252000          4  10399.998504   \n36   636 2013-08-12 13:35:46  2592252000          4  10399.998500   \n37   677 2013-08-12 13:35:46  2592252000          4  10399.999796   \n38   720 2013-08-12 13:35:46  2592252000          8  23407.996128   \n39   740 2013-08-12 13:35:46  2592252000         32  86399.988608   \n40   750 2013-08-12 13:35:46  2592252000          8  20799.995096   \n41   796 2013-08-12 13:35:46  2592252000          1   2925.999560   \n42   832 2013-08-12 13:35:46  2592252000          2   5199.999232   \n43   841 2013-08-12 13:35:46  2592252000          2   5851.999120   \n44   851 2013-08-12 13:35:46  2592252000          2   5852.000242   \n45   857 2013-08-12 13:35:46  2592252000          1   2926.000073   \n46   871 2013-08-12 13:35:46  2592252000          4  11704.000748   \n47   915 2013-08-12 13:35:46  2592252000          1   2599.999636   \n48   957 2013-08-12 13:35:46  2592252000          4  10399.999788   \n49   997 2013-08-12 13:35:46  2592252000          8  19199.997832   \n\n    mem_capacity  \n0         181352  \n1         260096  \n2         249972  \n3         131245  \n4         179306  \n5         124928  \n6         191739  \n7         156776  \n8         103484  \n9         195624  \n10       6213632  \n11      16353280  \n12       8388608  \n13      20971520  \n14      20971520  \n15      40802304  \n16      40761344  \n17      33554432  \n18      33554432  \n19       6291456  \n20       8388608  \n21      16644096  \n22       8359936  \n23       8359936  \n24       8392704  \n25       3149824  \n26       3141632  \n27       3133440  \n28       3141632  \n29       3133440  \n30       1867776  \n31       4194304  \n32       3145728  \n33       2092352  \n34       4058292  \n35      16355328  \n36      16361472  \n37       8257536  \n38      33419264  \n39     130457600  \n40      33394652  \n41       4194304  \n42       8388608  \n43       2095104  \n44       4194304  \n45       2097152  \n46      16703488  \n47        262144  \n48       8388608  \n49      16644096  ",
      "text/html": "<div>\n<style scoped>\n    .dataframe tbody tr th:only-of-type {\n        vertical-align: middle;\n    }\n\n    .dataframe tbody tr th {\n        vertical-align: top;\n    }\n\n    .dataframe thead th {\n        text-align: right;\n    }\n</style>\n<table border=\"1\" class=\"dataframe\">\n  <thead>\n    <tr style=\"text-align: right;\">\n      <th></th>\n      <th>id</th>\n      <th>submission_time</th>\n      <th>duration</th>\n      <th>cpu_count</th>\n      <th>cpu_capacity</th>\n      <th>mem_capacity</th>\n    </tr>\n  </thead>\n  <tbody>\n    <tr>\n      <th>0</th>\n      <td>1019</td>\n      <td>2013-08-12 13:35:46</td>\n      <td>2592252000</td>\n      <td>1</td>\n      <td>2926.000135</td>\n      <td>181352</td>\n    </tr>\n    <tr>\n      <th>1</th>\n      <td>1023</td>\n      <td>2013-08-12 13:35:46</td>\n      <td>2592252000</td>\n      <td>1</td>\n      <td>2925.999560</td>\n      <td>260096</td>\n    </tr>\n    <tr>\n      <th>2</th>\n      <td>1026</td>\n      <td>2013-08-12 13:35:46</td>\n      <td>2592252000</td>\n      <td>1</td>\n      <td>2925.999717</td>\n      <td>249972</td>\n    </tr>\n    <tr>\n      <th>3</th>\n      <td>1052</td>\n      <td>2013-08-29 14:38:12</td>\n      <td>577855000</td>\n      <td>1</td>\n      <td>2926.000107</td>\n      <td>131245</td>\n    </tr>\n    <tr>\n      <th>4</th>\n      <td>1073</td>\n      <td>2013-08-21 11:07:12</td>\n      <td>1823566000</td>\n      <td>1</td>\n      <td>2599.999649</td>\n      <td>179306</td>\n    </tr>\n    <tr>\n      <th>5</th>\n      <td>1129</td>\n      <td>2013-08-12 13:35:46</td>\n      <td>2592252000</td>\n      <td>1</td>\n      <td>2925.999494</td>\n      <td>124928</td>\n    </tr>\n    <tr>\n      <th>6</th>\n      <td>1132</td>\n      <td>2013-08-20 11:22:04</td>\n      <td>1909074000</td>\n      <td>1</td>\n      <td>2925.999318</td>\n      <td>191739</td>\n    </tr>\n    <tr>\n      <th>7</th>\n      <td>1138</td>\n      <td>2013-08-12 13:35:46</td>\n      <td>2592252000</td>\n      <td>1</td>\n      <td>2599.999602</td>\n      <td>156776</td>\n    </tr>\n    <tr>\n      <th>8</th>\n      <td>1147</td>\n      <td>2013-08-12 13:35:46</td>\n      <td>2592252000</td>\n      <td>1</td>\n      <td>2599.999649</td>\n      <td>103484</td>\n    </tr>\n    <tr>\n      <th>9</th>\n      <td>1152</td>\n      <td>2013-08-12 13:35:46</td>\n      <td>2592252000</td>\n      <td>1</td>\n      <td>2925.999560</td>\n      <td>195624</td>\n    </tr>\n    <tr>\n      <th>10</th>\n      <td>116</td>\n      <td>2013-08-12 13:35:46</td>\n      <td>2592252000</td>\n      <td>4</td>\n      <td>11703.997664</td>\n      <td>6213632</td>\n    </tr>\n    <tr>\n      <th>11</th>\n      <td>1247</td>\n      <td>2013-08-12 13:35:46</td>\n      <td>2592252000</td>\n      <td>4</td>\n      <td>10399.997352</td>\n      <td>16353280</td>\n    </tr>\n    <tr>\n      <th>12</th>\n      <td>141</td>\n      <td>2013-08-12 13:35:46</td>\n      <td>2592252000</td>\n      <td>2</td>\n      <td>5851.998636</td>\n      <td>8388608</td>\n    </tr>\n    <tr>\n      <th>13</th>\n      <td>190</td>\n      <td>2013-08-12 13:35:46</td>\n      <td>2592252000</td>\n      <td>8</td>\n      <td>20799.999608</td>\n      <td>20971520</td>\n    </tr>\n    <tr>\n      <th>14</th>\n      <td>205</td>\n      <td>2013-08-12 13:35:46</td>\n      <td>2592252000</td>\n      <td>8</td>\n      <td>20799.999608</td>\n      <td>20971520</td>\n    </tr>\n    <tr>\n      <th>15</th>\n      <td>242</td>\n      <td>2013-08-12 13:35:46</td>\n      <td>2592252000</td>\n      <td>8</td>\n      <td>20799.996968</td>\n      <td>40802304</td>\n    </tr>\n    <tr>\n      <th>16</th>\n      <td>244</td>\n      <td>2013-08-12 13:35:46</td>\n      <td>2592252000</td>\n      <td>8</td>\n      <td>20799.994648</td>\n      <td>40761344</td>\n    </tr>\n    <tr>\n      <th>17</th>\n      <td>272</td>\n      <td>2013-08-12 13:35:46</td>\n      <td>2592252000</td>\n      <td>8</td>\n      <td>20799.997032</td>\n      <td>33554432</td>\n    </tr>\n    <tr>\n      <th>18</th>\n      <td>281</td>\n      <td>2013-08-12 13:35:46</td>\n      <td>2592252000</td>\n      <td>8</td>\n      <td>20799.996936</td>\n      <td>33554432</td>\n    </tr>\n    <tr>\n      <th>19</th>\n      <td>308</td>\n      <td>2013-09-04 07:58:58</td>\n      <td>625260000</td>\n      <td>2</td>\n      <td>5199.999902</td>\n      <td>6291456</td>\n    </tr>\n    <tr>\n      <th>20</th>\n      <td>323</td>\n      <td>2013-08-12 13:35:46</td>\n      <td>2592252000</td>\n      <td>2</td>\n      <td>5199.999298</td>\n      <td>8388608</td>\n    </tr>\n    <tr>\n      <th>21</th>\n      <td>331</td>\n      <td>2013-08-22 11:12:20</td>\n      <td>1736858000</td>\n      <td>4</td>\n      <td>10799.996356</td>\n      <td>16644096</td>\n    </tr>\n    <tr>\n      <th>22</th>\n      <td>378</td>\n      <td>2013-08-12 13:35:46</td>\n      <td>2592252000</td>\n      <td>2</td>\n      <td>5199.999280</td>\n      <td>8359936</td>\n    </tr>\n    <tr>\n      <th>23</th>\n      <td>379</td>\n      <td>2013-08-12 13:35:46</td>\n      <td>2592252000</td>\n      <td>2</td>\n      <td>5199.999270</td>\n      <td>8359936</td>\n    </tr>\n    <tr>\n      <th>24</th>\n      <td>449</td>\n      <td>2013-08-12 13:35:46</td>\n      <td>2592252000</td>\n      <td>4</td>\n      <td>10399.998520</td>\n      <td>8392704</td>\n    </tr>\n    <tr>\n      <th>25</th>\n      <td>463</td>\n      <td>2013-08-12 13:35:46</td>\n      <td>2592252000</td>\n      <td>4</td>\n      <td>10399.998504</td>\n      <td>3149824</td>\n    </tr>\n    <tr>\n      <th>26</th>\n      <td>466</td>\n      <td>2013-08-12 13:35:46</td>\n      <td>2592252000</td>\n      <td>4</td>\n      <td>10399.997372</td>\n      <td>3141632</td>\n    </tr>\n    <tr>\n      <th>27</th>\n      <td>467</td>\n      <td>2013-08-12 13:35:46</td>\n      <td>2592252000</td>\n      <td>4</td>\n      <td>10399.998408</td>\n      <td>3133440</td>\n    </tr>\n    <tr>\n      <th>28</th>\n      <td>501</td>\n      <td>2013-08-12 13:35:46</td>\n      <td>2592252000</td>\n      <td>4</td>\n      <td>10399.999796</td>\n      <td>3141632</td>\n    </tr>\n    <tr>\n      <th>29</th>\n      <td>506</td>\n      <td>2013-08-12 13:35:46</td>\n      <td>2592252000</td>\n      <td>4</td>\n      <td>10399.998452</td>\n      <td>3133440</td>\n    </tr>\n    <tr>\n      <th>30</th>\n      <td>550</td>\n      <td>2013-08-12 13:35:46</td>\n      <td>2592252000</td>\n      <td>1</td>\n      <td>2599.999951</td>\n      <td>1867776</td>\n    </tr>\n    <tr>\n      <th>31</th>\n      <td>554</td>\n      <td>2013-08-12 13:35:46</td>\n      <td>2592252000</td>\n      <td>1</td>\n      <td>2926.000135</td>\n      <td>4194304</td>\n    </tr>\n    <tr>\n      <th>32</th>\n      <td>557</td>\n      <td>2013-08-29 14:28:12</td>\n      <td>577255000</td>\n      <td>1</td>\n      <td>2926.000121</td>\n      <td>3145728</td>\n    </tr>\n    <tr>\n      <th>33</th>\n      <td>578</td>\n      <td>2013-08-12 13:35:46</td>\n      <td>2592252000</td>\n      <td>1</td>\n      <td>2599.999626</td>\n      <td>2092352</td>\n    </tr>\n    <tr>\n      <th>34</th>\n      <td>607</td>\n      <td>2013-08-12 13:35:46</td>\n      <td>2592252000</td>\n      <td>1</td>\n      <td>2599.999626</td>\n      <td>4058292</td>\n    </tr>\n    <tr>\n      <th>35</th>\n      <td>626</td>\n      <td>2013-08-12 13:35:46</td>\n      <td>2592252000</td>\n      <td>4</td>\n      <td>10399.998504</td>\n      <td>16355328</td>\n    </tr>\n    <tr>\n      <th>36</th>\n      <td>636</td>\n      <td>2013-08-12 13:35:46</td>\n      <td>2592252000</td>\n      <td>4</td>\n      <td>10399.998500</td>\n      <td>16361472</td>\n    </tr>\n    <tr>\n      <th>37</th>\n      <td>677</td>\n      <td>2013-08-12 13:35:46</td>\n      <td>2592252000</td>\n      <td>4</td>\n      <td>10399.999796</td>\n      <td>8257536</td>\n    </tr>\n    <tr>\n      <th>38</th>\n      <td>720</td>\n      <td>2013-08-12 13:35:46</td>\n      <td>2592252000</td>\n      <td>8</td>\n      <td>23407.996128</td>\n      <td>33419264</td>\n    </tr>\n    <tr>\n      <th>39</th>\n      <td>740</td>\n      <td>2013-08-12 13:35:46</td>\n      <td>2592252000</td>\n      <td>32</td>\n      <td>86399.988608</td>\n      <td>130457600</td>\n    </tr>\n    <tr>\n      <th>40</th>\n      <td>750</td>\n      <td>2013-08-12 13:35:46</td>\n      <td>2592252000</td>\n      <td>8</td>\n      <td>20799.995096</td>\n      <td>33394652</td>\n    </tr>\n    <tr>\n      <th>41</th>\n      <td>796</td>\n      <td>2013-08-12 13:35:46</td>\n      <td>2592252000</td>\n      <td>1</td>\n      <td>2925.999560</td>\n      <td>4194304</td>\n    </tr>\n    <tr>\n      <th>42</th>\n      <td>832</td>\n      <td>2013-08-12 13:35:46</td>\n      <td>2592252000</td>\n      <td>2</td>\n      <td>5199.999232</td>\n      <td>8388608</td>\n    </tr>\n    <tr>\n      <th>43</th>\n      <td>841</td>\n      <td>2013-08-12 13:35:46</td>\n      <td>2592252000</td>\n      <td>2</td>\n      <td>5851.999120</td>\n      <td>2095104</td>\n    </tr>\n    <tr>\n      <th>44</th>\n      <td>851</td>\n      <td>2013-08-12 13:35:46</td>\n      <td>2592252000</td>\n      <td>2</td>\n      <td>5852.000242</td>\n      <td>4194304</td>\n    </tr>\n    <tr>\n      <th>45</th>\n      <td>857</td>\n      <td>2013-08-12 13:35:46</td>\n      <td>2592252000</td>\n      <td>1</td>\n      <td>2926.000073</td>\n      <td>2097152</td>\n    </tr>\n    <tr>\n      <th>46</th>\n      <td>871</td>\n      <td>2013-08-12 13:35:46</td>\n      <td>2592252000</td>\n      <td>4</td>\n      <td>11704.000748</td>\n      <td>16703488</td>\n    </tr>\n    <tr>\n      <th>47</th>\n      <td>915</td>\n      <td>2013-08-12 13:35:46</td>\n      <td>2592252000</td>\n      <td>1</td>\n      <td>2599.999636</td>\n      <td>262144</td>\n    </tr>\n    <tr>\n      <th>48</th>\n      <td>957</td>\n      <td>2013-08-12 13:35:46</td>\n      <td>2592252000</td>\n      <td>4</td>\n      <td>10399.999788</td>\n      <td>8388608</td>\n    </tr>\n    <tr>\n      <th>49</th>\n      <td>997</td>\n      <td>2013-08-12 13:35:46</td>\n      <td>2592252000</td>\n      <td>8</td>\n      <td>19199.997832</td>\n      <td>16644096</td>\n    </tr>\n  </tbody>\n</table>\n</div>"
     },
     "execution_count": 4,
     "metadata": {},
     "output_type": "execute_result"
    }
   ],
   "source": [
    "tasks"
   ],
   "metadata": {
    "collapsed": false,
    "ExecuteTime": {
     "end_time": "2024-11-11T23:34:18.353105Z",
     "start_time": "2024-11-11T23:34:18.346303Z"
    }
   },
   "id": "824ff4096b29d23e",
   "execution_count": 4
  },
  {
   "cell_type": "code",
   "outputs": [
    {
     "name": "stdout",
     "output_type": "stream",
     "text": [
      "Total CPU hours: 136127.79722222223\n"
     ]
    }
   ],
   "source": [
    "# Calculate total CPU hours from tasks\n",
    "tasks['cpu_hours'] = (tasks['cpu_count'] * tasks['duration']) / MILISECONDS_IN_HOUR\n",
    "total_cpu_hours = tasks['cpu_hours'].sum()\n",
    "\n",
    "print(f\"Total CPU hours: {total_cpu_hours}\")\n"
   ],
   "metadata": {
    "collapsed": false,
    "ExecuteTime": {
     "end_time": "2024-11-11T23:34:22.697268Z",
     "start_time": "2024-11-11T23:34:22.694493Z"
    }
   },
   "id": "d71d6159cd30156c",
   "execution_count": 5
  },
  {
   "cell_type": "code",
   "outputs": [
    {
     "name": "stdout",
     "output_type": "stream",
     "text": [
      "Average task duration in hours: 673.9386444444444\n"
     ]
    }
   ],
   "source": [
    "average_task_duration = tasks['duration'].mean()\n",
    "\n",
    "print(f\"Average task duration in hours: {average_task_duration / MILISECONDS_IN_HOUR}\")"
   ],
   "metadata": {
    "collapsed": false,
    "ExecuteTime": {
     "end_time": "2024-11-11T23:34:54.930332Z",
     "start_time": "2024-11-11T23:34:54.926657Z"
    }
   },
   "id": "f05cd7051153014c",
   "execution_count": 10
  },
  {
   "cell_type": "code",
   "outputs": [
    {
     "name": "stdout",
     "output_type": "stream",
     "text": [
      "Average job duration in hours: 673.9386444444444\n",
      "Min job duration in hours: 160.3486111111111\n",
      "Max job duration in hours: 720.07\n"
     ]
    },
    {
     "data": {
      "text/plain": "{'whiskers': [<matplotlib.lines.Line2D at 0x169696bd0>,\n  <matplotlib.lines.Line2D at 0x1696973d0>],\n 'caps': [<matplotlib.lines.Line2D at 0x169697c10>,\n  <matplotlib.lines.Line2D at 0x1696a0390>],\n 'boxes': [<matplotlib.lines.Line2D at 0x1696962d0>],\n 'medians': [<matplotlib.lines.Line2D at 0x1696a0c50>],\n 'fliers': [<matplotlib.lines.Line2D at 0x1696a14d0>],\n 'means': []}"
     },
     "execution_count": 14,
     "metadata": {},
     "output_type": "execute_result"
    },
    {
     "data": {
      "text/plain": "<Figure size 640x480 with 1 Axes>",
      "image/png": "[encoded data removed]"
     },
     "metadata": {},
     "output_type": "display_data"
    }
   ],
   "source": [
    "average_job_duration = tasks['duration'].mean()\n",
    "print(f\"Average job duration in hours: {average_job_duration / MILISECONDS_IN_HOUR}\")\n",
    "\n",
    "min_job_duration = tasks['duration'].min()\n",
    "max_job_duration = tasks['duration'].max()\n",
    "\n",
    "print(f\"Min job duration in hours: {min_job_duration / MILISECONDS_IN_HOUR}\")\n",
    "print(f\"Max job duration in hours: {max_job_duration / MILISECONDS_IN_HOUR}\")\n",
    "\n",
    "plt.boxplot(tasks['duration'] / MILISECONDS_IN_HOUR, vert=False)"
   ],
   "metadata": {
    "collapsed": false,
    "ExecuteTime": {
     "end_time": "2024-11-08T15:48:37.791146Z",
     "start_time": "2024-11-08T15:48:37.744558Z"
    }
   },
   "id": "b2721d14c0e20248",
   "execution_count": 14
  },
  {
   "cell_type": "code",
   "outputs": [],
   "source": [],
   "metadata": {
    "collapsed": false
   },
   "id": "c79c8e05a7deaccf"
  }
 ],
 "metadata": {
  "kernelspec": {
   "display_name": "Python 3",
   "language": "python",
   "name": "python3"
  },
  "language_info": {
   "codemirror_mode": {
    "name": "ipython",
    "version": 2
   },
   "file_extension": ".py",
   "mimetype": "text/x-python",
   "name": "python",
   "nbconvert_exporter": "python",
   "pygments_lexer": "ipython2",
   "version": "2.7.6"
  }
 },
 "nbformat": 4,
 "nbformat_minor": 5
}
