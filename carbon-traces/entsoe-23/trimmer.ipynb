{
 "cells": [
  {
   "cell_type": "code",
   "execution_count": 1,
   "id": "initial_id",
   "metadata": {
    "collapsed": true,
    "ExecuteTime": {
     "end_time": "2024-12-03T18:04:16.687205Z",
     "start_time": "2024-12-03T18:04:16.350742Z"
    }
   },
   "outputs": [],
   "source": [
    "import pandas as pd\n",
    "import os"
   ]
  },
  {
   "cell_type": "code",
   "outputs": [
    {
     "data": {
      "text/plain": "                      timestamp  carbon_intensity\n0     2023-01-01 00:00:00+01:00         14.934701\n1     2023-01-01 00:15:00+01:00         15.042630\n2     2023-01-01 00:30:00+01:00         15.130440\n3     2023-01-01 00:45:00+01:00         15.256120\n4     2023-01-01 01:00:00+01:00         15.398627\n...                         ...               ...\n34939 2023-12-30 22:45:00+01:00          7.845513\n34940 2023-12-30 23:00:00+01:00          8.378335\n34941 2023-12-30 23:15:00+01:00          8.618783\n34942 2023-12-30 23:30:00+01:00          8.906850\n34943 2023-12-30 23:45:00+01:00          9.162724\n\n[34944 rows x 2 columns]",
      "text/html": "<div>\n<style scoped>\n    .dataframe tbody tr th:only-of-type {\n        vertical-align: middle;\n    }\n\n    .dataframe tbody tr th {\n        vertical-align: top;\n    }\n\n    .dataframe thead th {\n        text-align: right;\n    }\n</style>\n<table border=\"1\" class=\"dataframe\">\n  <thead>\n    <tr style=\"text-align: right;\">\n      <th></th>\n      <th>timestamp</th>\n      <th>carbon_intensity</th>\n    </tr>\n  </thead>\n  <tbody>\n    <tr>\n      <th>0</th>\n      <td>2023-01-01 00:00:00+01:00</td>\n      <td>14.934701</td>\n    </tr>\n    <tr>\n      <th>1</th>\n      <td>2023-01-01 00:15:00+01:00</td>\n      <td>15.042630</td>\n    </tr>\n    <tr>\n      <th>2</th>\n      <td>2023-01-01 00:30:00+01:00</td>\n      <td>15.130440</td>\n    </tr>\n    <tr>\n      <th>3</th>\n      <td>2023-01-01 00:45:00+01:00</td>\n      <td>15.256120</td>\n    </tr>\n    <tr>\n      <th>4</th>\n      <td>2023-01-01 01:00:00+01:00</td>\n      <td>15.398627</td>\n    </tr>\n    <tr>\n      <th>...</th>\n      <td>...</td>\n      <td>...</td>\n    </tr>\n    <tr>\n      <th>34939</th>\n      <td>2023-12-30 22:45:00+01:00</td>\n      <td>7.845513</td>\n    </tr>\n    <tr>\n      <th>34940</th>\n      <td>2023-12-30 23:00:00+01:00</td>\n      <td>8.378335</td>\n    </tr>\n    <tr>\n      <th>34941</th>\n      <td>2023-12-30 23:15:00+01:00</td>\n      <td>8.618783</td>\n    </tr>\n    <tr>\n      <th>34942</th>\n      <td>2023-12-30 23:30:00+01:00</td>\n      <td>8.906850</td>\n    </tr>\n    <tr>\n      <th>34943</th>\n      <td>2023-12-30 23:45:00+01:00</td>\n      <td>9.162724</td>\n    </tr>\n  </tbody>\n</table>\n<p>34944 rows × 2 columns</p>\n</div>"
     },
     "execution_count": 2,
     "metadata": {},
     "output_type": "execute_result"
    }
   ],
   "source": [
    "pd.read_parquet('entso-e-AT-2023_1-2023_12.parquet')"
   ],
   "metadata": {
    "collapsed": false,
    "ExecuteTime": {
     "end_time": "2024-12-03T18:04:16.729439Z",
     "start_time": "2024-12-03T18:04:16.688251Z"
    }
   },
   "id": "d7ae347e5d3b0ff2",
   "execution_count": 2
  },
  {
   "cell_type": "code",
   "outputs": [
    {
     "data": {
      "text/plain": "timestamp           datetime64[ns, Europe/Vienna]\ncarbon_intensity                          float64\ndtype: object"
     },
     "execution_count": 3,
     "metadata": {},
     "output_type": "execute_result"
    }
   ],
   "source": [
    "# list the type of columns\n",
    "df = pd.read_parquet('entso-e-AT-2023_1-2023_12.parquet')\n",
    "df.dtypes"
   ],
   "metadata": {
    "collapsed": false,
    "ExecuteTime": {
     "end_time": "2024-12-03T18:04:39.040151Z",
     "start_time": "2024-12-03T18:04:39.032403Z"
    }
   },
   "id": "dede1e1684307dd8",
   "execution_count": 3
  },
  {
   "cell_type": "code",
   "outputs": [],
   "source": [
    "# for every file in the directory, read it, and trim such that it contains data only between may 31st and jun 30th\n",
    "# save the trimmed data to a new file called entso-e-{countrycode}-2023-06.parquet\n",
    "\n",
    "# make the first row a string\n",
    "df['timestamp'].astype(str) < '2023-06-01'\n",
    "\n",
    "for file in os.listdir():\n",
    "    if file.endswith('.parquet'):\n",
    "        df = pd.read_parquet(file)\n",
    "        df = df[df['timestamp'] >= '2023-05-31']\n",
    "        df = df[df['timestamp'] < '2023-07-01']\n",
    "        df.to_parquet(f'entso-e-{file[8:10]}-2023-06.parquet')"
   ],
   "metadata": {
    "collapsed": false,
    "ExecuteTime": {
     "end_time": "2024-12-03T18:05:23.352998Z",
     "start_time": "2024-12-03T18:05:23.136504Z"
    }
   },
   "id": "c0439c44271049b",
   "execution_count": 6
  },
  {
   "cell_type": "code",
   "outputs": [],
   "source": [
    "for file in os.listdir():\n",
    "    if file.__contains__('2023-06'):\n",
    "        # move file to \"entsoe-23-june\"\n",
    "        os.rename(file, f'entsoe-23-june/{file}')"
   ],
   "metadata": {
    "collapsed": false,
    "ExecuteTime": {
     "end_time": "2024-12-03T18:07:15.370868Z",
     "start_time": "2024-12-03T18:07:15.361951Z"
    }
   },
   "id": "9aa79a19ba4ecad3",
   "execution_count": 9
  },
  {
   "cell_type": "code",
   "outputs": [],
   "source": [],
   "metadata": {
    "collapsed": false
   },
   "id": "31608e0bf855c4f1"
  }
 ],
 "metadata": {
  "kernelspec": {
   "display_name": "Python 3",
   "language": "python",
   "name": "python3"
  },
  "language_info": {
   "codemirror_mode": {
    "name": "ipython",
    "version": 2
   },
   "file_extension": ".py",
   "mimetype": "text/x-python",
   "name": "python",
   "nbconvert_exporter": "python",
   "pygments_lexer": "ipython2",
   "version": "2.7.6"
  }
 },
 "nbformat": 4,
 "nbformat_minor": 5
}
