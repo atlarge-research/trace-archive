{
 "cells": [
  {
   "cell_type": "code",
   "outputs": [
    {
     "data": {
      "text/plain": "'\\nMIT License\\n\\nCopyright (c) 2024 AtLarge Research\\n\\nPermission is hereby granted, free of charge, to any person obtaining a copy\\nof this software and associated documentation files (the \"Software\"), to deal\\nin the Software without restriction, including without limitation the rights\\nto use, copy, modify, merge, publish, distribute, sublicense, and/or sell\\ncopies of the Software, and to permit persons to whom the Software is\\nfurnished to do so, subject to the following conditions:\\n\\nThe above copyright notice and this permission notice shall be included in all\\ncopies or substantial portions of the Software.\\n\\nTHE SOFTWARE IS PROVIDED \"AS IS\", WITHOUT WARRANTY OF ANY KIND, EXPRESS OR\\nIMPLIED, INCLUDING BUT NOT LIMITED TO THE WARRANTIES OF MERCHANTABILITY,\\nFITNESS FOR A PARTICULAR PURPOSE AND NONINFRINGEMENT. IN NO EVENT SHALL THE\\nAUTHORS OR COPYRIGHT HOLDERS BE LIABLE FOR ANY CLAIM, DAMAGES OR OTHER\\nLIABILITY, WHETHER IN AN ACTION OF CONTRACT, TORT OR OTHERWISE, ARISING FROM,\\nOUT OF OR IN CONNECTION WITH THE SOFTWARE OR THE USE OR OTHER DEALINGS IN THE\\nSOFTWARE.\\n'"
     },
     "execution_count": 1,
     "metadata": {},
     "output_type": "execute_result"
    }
   ],
   "source": [
    "\"\"\"\n",
    "MIT License\n",
    "\n",
    "Copyright (c) 2024 AtLarge Research\n",
    "\n",
    "Permission is hereby granted, free of charge, to any person obtaining a copy\n",
    "of this software and associated documentation files (the \"Software\"), to deal\n",
    "in the Software without restriction, including without limitation the rights\n",
    "to use, copy, modify, merge, publish, distribute, sublicense, and/or sell\n",
    "copies of the Software, and to permit persons to whom the Software is\n",
    "furnished to do so, subject to the following conditions:\n",
    "\n",
    "The above copyright notice and this permission notice shall be included in all\n",
    "copies or substantial portions of the Software.\n",
    "\n",
    "THE SOFTWARE IS PROVIDED \"AS IS\", WITHOUT WARRANTY OF ANY KIND, EXPRESS OR\n",
    "IMPLIED, INCLUDING BUT NOT LIMITED TO THE WARRANTIES OF MERCHANTABILITY,\n",
    "FITNESS FOR A PARTICULAR PURPOSE AND NONINFRINGEMENT. IN NO EVENT SHALL THE\n",
    "AUTHORS OR COPYRIGHT HOLDERS BE LIABLE FOR ANY CLAIM, DAMAGES OR OTHER\n",
    "LIABILITY, WHETHER IN AN ACTION OF CONTRACT, TORT OR OTHERWISE, ARISING FROM,\n",
    "OUT OF OR IN CONNECTION WITH THE SOFTWARE OR THE USE OR OTHER DEALINGS IN THE\n",
    "SOFTWARE.\n",
    "\"\"\""
   ],
   "metadata": {
    "collapsed": false,
    "ExecuteTime": {
     "end_time": "2024-11-20T10:15:52.211137Z",
     "start_time": "2024-11-20T10:15:52.202912Z"
    }
   },
   "id": "c762aee7cd932b",
   "execution_count": 1
  },
  {
   "cell_type": "code",
   "execution_count": 2,
   "id": "initial_id",
   "metadata": {
    "collapsed": true,
    "ExecuteTime": {
     "end_time": "2024-11-20T10:15:52.959983Z",
     "start_time": "2024-11-20T10:15:52.359204Z"
    }
   },
   "outputs": [],
   "source": [
    "import numpy as np\n",
    "import pandas as pd\n",
    "from EnergyData import EnergyData\n",
    "from variables import country_codes\n",
    "from tqdm.notebook import trange, tqdm\n",
    "from time import sleep"
   ]
  },
  {
   "cell_type": "code",
   "outputs": [],
   "source": [],
   "metadata": {
    "collapsed": false,
    "ExecuteTime": {
     "end_time": "2024-11-20T10:15:52.962145Z",
     "start_time": "2024-11-20T10:15:52.960815Z"
    }
   },
   "id": "45943f49b036142c",
   "execution_count": 2
  },
  {
   "cell_type": "code",
   "outputs": [],
   "source": [
    "start = pd.Timestamp(\"2023-01-01\", tz='Europe/Brussels')\n",
    "end = pd.Timestamp(\"2023-12-31\", tz='Europe/Brussels')"
   ],
   "metadata": {
    "collapsed": false,
    "ExecuteTime": {
     "end_time": "2024-11-20T10:15:52.980833Z",
     "start_time": "2024-11-20T10:15:52.962709Z"
    }
   },
   "id": "8df230c30f646769",
   "execution_count": 3
  },
  {
   "cell_type": "code",
   "outputs": [],
   "source": [
    "def analyze_all_countries(index):\n",
    "    if index == len(country_codes):\n",
    "        return\n",
    "    \n",
    "    try:\n",
    "        EnergyData(start=start, end=end, country_code=country_codes[index], extension=\"parquet\")\n",
    "        index += 1\n",
    "        analyze_all_countries(index)\n",
    "    except Exception as e:\n",
    "        print(f\"Error: {e}\")\n",
    "        index += 1\n",
    "        analyze_all_countries(index)"
   ],
   "metadata": {
    "collapsed": false,
    "ExecuteTime": {
     "end_time": "2024-11-20T10:15:53.703966Z",
     "start_time": "2024-11-20T10:15:53.700844Z"
    }
   },
   "id": "fc73fc2897b5af6e",
   "execution_count": 4
  },
  {
   "cell_type": "code",
   "outputs": [
    {
     "name": "stdout",
     "output_type": "stream",
     "text": [
      "Error: 'B'\n",
      "Error: \n",
      "Error: 'B'\n",
      "Error: 'B'\n",
      "Error: 'B'\n",
      "Error: 'F'\n",
      "Error: \n"
     ]
    },
    {
     "name": "stderr",
     "output_type": "stream",
     "text": [
      "Connection Error, retrying in 0 seconds\n"
     ]
    },
    {
     "name": "stdout",
     "output_type": "stream",
     "text": [
      "Error: ('Connection aborted.', RemoteDisconnected('Remote end closed connection without response'))\n",
      "Error: 'B'\n",
      "Error: 'B'\n",
      "Error: 'F'\n",
      "Error: 'F'\n",
      "Error: 'B'\n",
      "Error: 'B'\n",
      "Error: 'B'\n",
      "Error: 'B'\n",
      "Error: 'B'\n",
      "Error: 'F'\n",
      "Error: 'H'\n",
      "Error: \n"
     ]
    }
   ],
   "source": [
    "analyze_all_countries(0)"
   ],
   "metadata": {
    "collapsed": false,
    "ExecuteTime": {
     "end_time": "2024-11-20T10:46:38.787077Z",
     "start_time": "2024-11-20T10:15:55.562327Z"
    }
   },
   "id": "267bb4f9e00a2f69",
   "execution_count": 5
  },
  {
   "cell_type": "code",
   "outputs": [],
   "source": [],
   "metadata": {
    "collapsed": false,
    "ExecuteTime": {
     "end_time": "2024-11-20T10:15:43.379895Z",
     "start_time": "2024-11-20T10:15:43.379724Z"
    }
   },
   "id": "df718cbe4aef608e"
  }
 ],
 "metadata": {
  "kernelspec": {
   "display_name": "Python 3",
   "language": "python",
   "name": "python3"
  },
  "language_info": {
   "codemirror_mode": {
    "name": "ipython",
    "version": 2
   },
   "file_extension": ".py",
   "mimetype": "text/x-python",
   "name": "python",
   "nbconvert_exporter": "python",
   "pygments_lexer": "ipython2",
   "version": "2.7.6"
  }
 },
 "nbformat": 4,
 "nbformat_minor": 5
}
