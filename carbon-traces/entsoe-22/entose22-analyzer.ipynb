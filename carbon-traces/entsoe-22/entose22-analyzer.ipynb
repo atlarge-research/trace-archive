{
 "cells": [
  {
   "cell_type": "code",
   "execution_count": 3,
   "id": "initial_id",
   "metadata": {
    "collapsed": true,
    "ExecuteTime": {
     "end_time": "2024-11-19T15:53:09.860457Z",
     "start_time": "2024-11-19T15:53:09.063705Z"
    }
   },
   "outputs": [],
   "source": [
    "import pandas as pd\n",
    "import numpy as np\n",
    "import matplotlib.pyplot as plt\n",
    "import math"
   ]
  },
  {
   "cell_type": "code",
   "outputs": [
    {
     "data": {
      "text/plain": "                timestamp  carbon_intensity\n0     2021-12-31 23:00:00        168.138693\n1     2021-12-31 23:15:00        167.050014\n2     2021-12-31 23:30:00        164.552936\n3     2021-12-31 23:45:00        167.493769\n4     2022-01-01 00:00:00        164.517793\n...                   ...               ...\n34939 2022-12-30 21:45:00         91.855611\n34940 2022-12-30 22:00:00         91.849933\n34941 2022-12-30 22:15:00         93.020656\n34942 2022-12-30 22:30:00         93.370508\n34943 2022-12-30 22:45:00         94.498418\n\n[34944 rows x 2 columns]",
      "text/html": "<div>\n<style scoped>\n    .dataframe tbody tr th:only-of-type {\n        vertical-align: middle;\n    }\n\n    .dataframe tbody tr th {\n        vertical-align: top;\n    }\n\n    .dataframe thead th {\n        text-align: right;\n    }\n</style>\n<table border=\"1\" class=\"dataframe\">\n  <thead>\n    <tr style=\"text-align: right;\">\n      <th></th>\n      <th>timestamp</th>\n      <th>carbon_intensity</th>\n    </tr>\n  </thead>\n  <tbody>\n    <tr>\n      <th>0</th>\n      <td>2021-12-31 23:00:00</td>\n      <td>168.138693</td>\n    </tr>\n    <tr>\n      <th>1</th>\n      <td>2021-12-31 23:15:00</td>\n      <td>167.050014</td>\n    </tr>\n    <tr>\n      <th>2</th>\n      <td>2021-12-31 23:30:00</td>\n      <td>164.552936</td>\n    </tr>\n    <tr>\n      <th>3</th>\n      <td>2021-12-31 23:45:00</td>\n      <td>167.493769</td>\n    </tr>\n    <tr>\n      <th>4</th>\n      <td>2022-01-01 00:00:00</td>\n      <td>164.517793</td>\n    </tr>\n    <tr>\n      <th>...</th>\n      <td>...</td>\n      <td>...</td>\n    </tr>\n    <tr>\n      <th>34939</th>\n      <td>2022-12-30 21:45:00</td>\n      <td>91.855611</td>\n    </tr>\n    <tr>\n      <th>34940</th>\n      <td>2022-12-30 22:00:00</td>\n      <td>91.849933</td>\n    </tr>\n    <tr>\n      <th>34941</th>\n      <td>2022-12-30 22:15:00</td>\n      <td>93.020656</td>\n    </tr>\n    <tr>\n      <th>34942</th>\n      <td>2022-12-30 22:30:00</td>\n      <td>93.370508</td>\n    </tr>\n    <tr>\n      <th>34943</th>\n      <td>2022-12-30 22:45:00</td>\n      <td>94.498418</td>\n    </tr>\n  </tbody>\n</table>\n<p>34944 rows × 2 columns</p>\n</div>"
     },
     "execution_count": 2,
     "metadata": {},
     "output_type": "execute_result"
    }
   ],
   "source": [
    "carbon = pd.read_parquet(\"carbon_2022.parquet\")\n",
    "carbon"
   ],
   "metadata": {
    "collapsed": false,
    "ExecuteTime": {
     "end_time": "2024-11-12T17:47:02.155625Z",
     "start_time": "2024-11-12T17:47:02.092766Z"
    }
   },
   "id": "91c576a89a8e9418",
   "execution_count": 2
  },
  {
   "cell_type": "code",
   "outputs": [
    {
     "name": "stdout",
     "output_type": "stream",
     "text": [
      "Trace duration: 363 days 23:45:00\n",
      "The trace starts at: 2021-12-31 23:00:00\n",
      "The trace ends at: 2022-12-30 22:45:00\n"
     ]
    }
   ],
   "source": [
    "# the duration of the trace (minimum timestamp to maximum timestamp)\n",
    "trace_duration = carbon[\"timestamp\"].max() - carbon[\"timestamp\"].min()\n",
    "\n",
    "print(f\"Trace duration: {trace_duration}\")\n",
    "print(f\"The trace starts at: {carbon['timestamp'].min()}\")\n",
    "print(f\"The trace ends at: {carbon['timestamp'].max()}\")"
   ],
   "metadata": {
    "collapsed": false,
    "ExecuteTime": {
     "end_time": "2024-11-12T17:48:05.779664Z",
     "start_time": "2024-11-12T17:48:05.773966Z"
    }
   },
   "id": "c79c8e05a7deaccf",
   "execution_count": 4
  },
  {
   "cell_type": "code",
   "outputs": [
    {
     "data": {
      "text/plain": "                                    Biomass                     \\\n                          Actual Aggregated Actual Consumption   \n2023-01-01 00:00:00+01:00             240.0                0.0   \n2023-01-01 00:15:00+01:00             240.0                0.0   \n2023-01-01 00:30:00+01:00             240.0                0.0   \n2023-01-01 00:45:00+01:00             240.0                0.0   \n2023-01-01 01:00:00+01:00             240.0                0.0   \n...                                     ...                ...   \n2023-12-30 22:45:00+01:00             144.0                0.0   \n2023-12-30 23:00:00+01:00             144.0                0.0   \n2023-12-30 23:15:00+01:00             144.0                0.0   \n2023-12-30 23:30:00+01:00             144.0                0.0   \n2023-12-30 23:45:00+01:00             144.0                0.0   \n\n                                 Fossil Gas                     \\\n                          Actual Aggregated Actual Consumption   \n2023-01-01 00:00:00+01:00              28.0                0.0   \n2023-01-01 00:15:00+01:00              28.0                0.0   \n2023-01-01 00:30:00+01:00              28.0                0.0   \n2023-01-01 00:45:00+01:00              28.0                0.0   \n2023-01-01 01:00:00+01:00              28.0                0.0   \n...                                     ...                ...   \n2023-12-30 22:45:00+01:00              31.0                0.0   \n2023-12-30 23:00:00+01:00              31.0                0.0   \n2023-12-30 23:15:00+01:00              31.0                0.0   \n2023-12-30 23:30:00+01:00              31.0                0.0   \n2023-12-30 23:45:00+01:00              31.0                0.0   \n\n                           Fossil Hard coal                     \\\n                          Actual Aggregated Actual Consumption   \n2023-01-01 00:00:00+01:00               0.0                0.0   \n2023-01-01 00:15:00+01:00               0.0                0.0   \n2023-01-01 00:30:00+01:00               0.0                0.0   \n2023-01-01 00:45:00+01:00               0.0                0.0   \n2023-01-01 01:00:00+01:00               0.0                0.0   \n...                                     ...                ...   \n2023-12-30 22:45:00+01:00               0.0                0.0   \n2023-12-30 23:00:00+01:00               0.0                0.0   \n2023-12-30 23:15:00+01:00               0.0                0.0   \n2023-12-30 23:30:00+01:00               0.0                0.0   \n2023-12-30 23:45:00+01:00               0.0                0.0   \n\n                                 Fossil Oil                     \\\n                          Actual Aggregated Actual Consumption   \n2023-01-01 00:00:00+01:00               0.0                0.0   \n2023-01-01 00:15:00+01:00               0.0                0.0   \n2023-01-01 00:30:00+01:00               0.0                0.0   \n2023-01-01 00:45:00+01:00               0.0                0.0   \n2023-01-01 01:00:00+01:00               0.0                0.0   \n...                                     ...                ...   \n2023-12-30 22:45:00+01:00               0.0                0.0   \n2023-12-30 23:00:00+01:00               0.0                0.0   \n2023-12-30 23:15:00+01:00               0.0                0.0   \n2023-12-30 23:30:00+01:00               0.0                0.0   \n2023-12-30 23:45:00+01:00               0.0                0.0   \n\n                                 Geothermal                     ...  \\\n                          Actual Aggregated Actual Consumption  ...   \n2023-01-01 00:00:00+01:00               0.0                0.0  ...   \n2023-01-01 00:15:00+01:00               0.0                0.0  ...   \n2023-01-01 00:30:00+01:00               0.0                0.0  ...   \n2023-01-01 00:45:00+01:00               0.0                0.0  ...   \n2023-01-01 01:00:00+01:00               0.0                0.0  ...   \n...                                     ...                ...  ...   \n2023-12-30 22:45:00+01:00               0.0                0.0  ...   \n2023-12-30 23:00:00+01:00               0.0                0.0  ...   \n2023-12-30 23:15:00+01:00               0.0                0.0  ...   \n2023-12-30 23:30:00+01:00               0.0                0.0  ...   \n2023-12-30 23:45:00+01:00               0.0                0.0  ...   \n\n                                      Other                     \\\n                          Actual Aggregated Actual Consumption   \n2023-01-01 00:00:00+01:00              22.0                0.0   \n2023-01-01 00:15:00+01:00              22.0                0.0   \n2023-01-01 00:30:00+01:00              22.0                0.0   \n2023-01-01 00:45:00+01:00              22.0                0.0   \n2023-01-01 01:00:00+01:00              22.0                0.0   \n...                                     ...                ...   \n2023-12-30 22:45:00+01:00              22.0                0.0   \n2023-12-30 23:00:00+01:00              22.0                0.0   \n2023-12-30 23:15:00+01:00              22.0                0.0   \n2023-12-30 23:30:00+01:00              22.0                0.0   \n2023-12-30 23:45:00+01:00              22.0                0.0   \n\n                            Other renewable                     \\\n                          Actual Aggregated Actual Consumption   \n2023-01-01 00:00:00+01:00               0.0                0.0   \n2023-01-01 00:15:00+01:00               0.0                0.0   \n2023-01-01 00:30:00+01:00               0.0                0.0   \n2023-01-01 00:45:00+01:00               0.0                0.0   \n2023-01-01 01:00:00+01:00               0.0                0.0   \n...                                     ...                ...   \n2023-12-30 22:45:00+01:00               0.0                0.0   \n2023-12-30 23:00:00+01:00               0.0                0.0   \n2023-12-30 23:15:00+01:00               0.0                0.0   \n2023-12-30 23:30:00+01:00               0.0                0.0   \n2023-12-30 23:45:00+01:00               0.0                0.0   \n\n                                      Solar                     \\\n                          Actual Aggregated Actual Consumption   \n2023-01-01 00:00:00+01:00               0.0                0.0   \n2023-01-01 00:15:00+01:00               0.0                0.0   \n2023-01-01 00:30:00+01:00               0.0                0.0   \n2023-01-01 00:45:00+01:00               0.0                0.0   \n2023-01-01 01:00:00+01:00               0.0                0.0   \n...                                     ...                ...   \n2023-12-30 22:45:00+01:00               0.0                0.0   \n2023-12-30 23:00:00+01:00               0.0                0.0   \n2023-12-30 23:15:00+01:00               0.0                0.0   \n2023-12-30 23:30:00+01:00               0.0                0.0   \n2023-12-30 23:45:00+01:00               0.0                0.0   \n\n                                      Waste                     \\\n                          Actual Aggregated Actual Consumption   \n2023-01-01 00:00:00+01:00             100.0                0.0   \n2023-01-01 00:15:00+01:00             100.0                0.0   \n2023-01-01 00:30:00+01:00             100.0                0.0   \n2023-01-01 00:45:00+01:00             100.0                0.0   \n2023-01-01 01:00:00+01:00             100.0                0.0   \n...                                     ...                ...   \n2023-12-30 22:45:00+01:00             100.0                0.0   \n2023-12-30 23:00:00+01:00             100.0                0.0   \n2023-12-30 23:15:00+01:00             100.0                0.0   \n2023-12-30 23:30:00+01:00             100.0                0.0   \n2023-12-30 23:45:00+01:00             100.0                0.0   \n\n                               Wind Onshore                     \n                          Actual Aggregated Actual Consumption  \n2023-01-01 00:00:00+01:00            1000.0                0.0  \n2023-01-01 00:15:00+01:00             964.0                0.0  \n2023-01-01 00:30:00+01:00             956.0                0.0  \n2023-01-01 00:45:00+01:00             992.0                0.0  \n2023-01-01 01:00:00+01:00             880.0                0.0  \n...                                     ...                ...  \n2023-12-30 22:45:00+01:00             148.0                0.0  \n2023-12-30 23:00:00+01:00             164.0                0.0  \n2023-12-30 23:15:00+01:00             172.0                0.0  \n2023-12-30 23:30:00+01:00             176.0                0.0  \n2023-12-30 23:45:00+01:00             192.0                0.0  \n\n[34944 rows x 26 columns]",
      "text/html": "<div>\n<style scoped>\n    .dataframe tbody tr th:only-of-type {\n        vertical-align: middle;\n    }\n\n    .dataframe tbody tr th {\n        vertical-align: top;\n    }\n\n    .dataframe thead tr th {\n        text-align: left;\n    }\n</style>\n<table border=\"1\" class=\"dataframe\">\n  <thead>\n    <tr>\n      <th></th>\n      <th colspan=\"2\" halign=\"left\">Biomass</th>\n      <th colspan=\"2\" halign=\"left\">Fossil Gas</th>\n      <th colspan=\"2\" halign=\"left\">Fossil Hard coal</th>\n      <th colspan=\"2\" halign=\"left\">Fossil Oil</th>\n      <th colspan=\"2\" halign=\"left\">Geothermal</th>\n      <th>...</th>\n      <th colspan=\"2\" halign=\"left\">Other</th>\n      <th colspan=\"2\" halign=\"left\">Other renewable</th>\n      <th colspan=\"2\" halign=\"left\">Solar</th>\n      <th colspan=\"2\" halign=\"left\">Waste</th>\n      <th colspan=\"2\" halign=\"left\">Wind Onshore</th>\n    </tr>\n    <tr>\n      <th></th>\n      <th>Actual Aggregated</th>\n      <th>Actual Consumption</th>\n      <th>Actual Aggregated</th>\n      <th>Actual Consumption</th>\n      <th>Actual Aggregated</th>\n      <th>Actual Consumption</th>\n      <th>Actual Aggregated</th>\n      <th>Actual Consumption</th>\n      <th>Actual Aggregated</th>\n      <th>Actual Consumption</th>\n      <th>...</th>\n      <th>Actual Aggregated</th>\n      <th>Actual Consumption</th>\n      <th>Actual Aggregated</th>\n      <th>Actual Consumption</th>\n      <th>Actual Aggregated</th>\n      <th>Actual Consumption</th>\n      <th>Actual Aggregated</th>\n      <th>Actual Consumption</th>\n      <th>Actual Aggregated</th>\n      <th>Actual Consumption</th>\n    </tr>\n  </thead>\n  <tbody>\n    <tr>\n      <th>2023-01-01 00:00:00+01:00</th>\n      <td>240.0</td>\n      <td>0.0</td>\n      <td>28.0</td>\n      <td>0.0</td>\n      <td>0.0</td>\n      <td>0.0</td>\n      <td>0.0</td>\n      <td>0.0</td>\n      <td>0.0</td>\n      <td>0.0</td>\n      <td>...</td>\n      <td>22.0</td>\n      <td>0.0</td>\n      <td>0.0</td>\n      <td>0.0</td>\n      <td>0.0</td>\n      <td>0.0</td>\n      <td>100.0</td>\n      <td>0.0</td>\n      <td>1000.0</td>\n      <td>0.0</td>\n    </tr>\n    <tr>\n      <th>2023-01-01 00:15:00+01:00</th>\n      <td>240.0</td>\n      <td>0.0</td>\n      <td>28.0</td>\n      <td>0.0</td>\n      <td>0.0</td>\n      <td>0.0</td>\n      <td>0.0</td>\n      <td>0.0</td>\n      <td>0.0</td>\n      <td>0.0</td>\n      <td>...</td>\n      <td>22.0</td>\n      <td>0.0</td>\n      <td>0.0</td>\n      <td>0.0</td>\n      <td>0.0</td>\n      <td>0.0</td>\n      <td>100.0</td>\n      <td>0.0</td>\n      <td>964.0</td>\n      <td>0.0</td>\n    </tr>\n    <tr>\n      <th>2023-01-01 00:30:00+01:00</th>\n      <td>240.0</td>\n      <td>0.0</td>\n      <td>28.0</td>\n      <td>0.0</td>\n      <td>0.0</td>\n      <td>0.0</td>\n      <td>0.0</td>\n      <td>0.0</td>\n      <td>0.0</td>\n      <td>0.0</td>\n      <td>...</td>\n      <td>22.0</td>\n      <td>0.0</td>\n      <td>0.0</td>\n      <td>0.0</td>\n      <td>0.0</td>\n      <td>0.0</td>\n      <td>100.0</td>\n      <td>0.0</td>\n      <td>956.0</td>\n      <td>0.0</td>\n    </tr>\n    <tr>\n      <th>2023-01-01 00:45:00+01:00</th>\n      <td>240.0</td>\n      <td>0.0</td>\n      <td>28.0</td>\n      <td>0.0</td>\n      <td>0.0</td>\n      <td>0.0</td>\n      <td>0.0</td>\n      <td>0.0</td>\n      <td>0.0</td>\n      <td>0.0</td>\n      <td>...</td>\n      <td>22.0</td>\n      <td>0.0</td>\n      <td>0.0</td>\n      <td>0.0</td>\n      <td>0.0</td>\n      <td>0.0</td>\n      <td>100.0</td>\n      <td>0.0</td>\n      <td>992.0</td>\n      <td>0.0</td>\n    </tr>\n    <tr>\n      <th>2023-01-01 01:00:00+01:00</th>\n      <td>240.0</td>\n      <td>0.0</td>\n      <td>28.0</td>\n      <td>0.0</td>\n      <td>0.0</td>\n      <td>0.0</td>\n      <td>0.0</td>\n      <td>0.0</td>\n      <td>0.0</td>\n      <td>0.0</td>\n      <td>...</td>\n      <td>22.0</td>\n      <td>0.0</td>\n      <td>0.0</td>\n      <td>0.0</td>\n      <td>0.0</td>\n      <td>0.0</td>\n      <td>100.0</td>\n      <td>0.0</td>\n      <td>880.0</td>\n      <td>0.0</td>\n    </tr>\n    <tr>\n      <th>...</th>\n      <td>...</td>\n      <td>...</td>\n      <td>...</td>\n      <td>...</td>\n      <td>...</td>\n      <td>...</td>\n      <td>...</td>\n      <td>...</td>\n      <td>...</td>\n      <td>...</td>\n      <td>...</td>\n      <td>...</td>\n      <td>...</td>\n      <td>...</td>\n      <td>...</td>\n      <td>...</td>\n      <td>...</td>\n      <td>...</td>\n      <td>...</td>\n      <td>...</td>\n      <td>...</td>\n    </tr>\n    <tr>\n      <th>2023-12-30 22:45:00+01:00</th>\n      <td>144.0</td>\n      <td>0.0</td>\n      <td>31.0</td>\n      <td>0.0</td>\n      <td>0.0</td>\n      <td>0.0</td>\n      <td>0.0</td>\n      <td>0.0</td>\n      <td>0.0</td>\n      <td>0.0</td>\n      <td>...</td>\n      <td>22.0</td>\n      <td>0.0</td>\n      <td>0.0</td>\n      <td>0.0</td>\n      <td>0.0</td>\n      <td>0.0</td>\n      <td>100.0</td>\n      <td>0.0</td>\n      <td>148.0</td>\n      <td>0.0</td>\n    </tr>\n    <tr>\n      <th>2023-12-30 23:00:00+01:00</th>\n      <td>144.0</td>\n      <td>0.0</td>\n      <td>31.0</td>\n      <td>0.0</td>\n      <td>0.0</td>\n      <td>0.0</td>\n      <td>0.0</td>\n      <td>0.0</td>\n      <td>0.0</td>\n      <td>0.0</td>\n      <td>...</td>\n      <td>22.0</td>\n      <td>0.0</td>\n      <td>0.0</td>\n      <td>0.0</td>\n      <td>0.0</td>\n      <td>0.0</td>\n      <td>100.0</td>\n      <td>0.0</td>\n      <td>164.0</td>\n      <td>0.0</td>\n    </tr>\n    <tr>\n      <th>2023-12-30 23:15:00+01:00</th>\n      <td>144.0</td>\n      <td>0.0</td>\n      <td>31.0</td>\n      <td>0.0</td>\n      <td>0.0</td>\n      <td>0.0</td>\n      <td>0.0</td>\n      <td>0.0</td>\n      <td>0.0</td>\n      <td>0.0</td>\n      <td>...</td>\n      <td>22.0</td>\n      <td>0.0</td>\n      <td>0.0</td>\n      <td>0.0</td>\n      <td>0.0</td>\n      <td>0.0</td>\n      <td>100.0</td>\n      <td>0.0</td>\n      <td>172.0</td>\n      <td>0.0</td>\n    </tr>\n    <tr>\n      <th>2023-12-30 23:30:00+01:00</th>\n      <td>144.0</td>\n      <td>0.0</td>\n      <td>31.0</td>\n      <td>0.0</td>\n      <td>0.0</td>\n      <td>0.0</td>\n      <td>0.0</td>\n      <td>0.0</td>\n      <td>0.0</td>\n      <td>0.0</td>\n      <td>...</td>\n      <td>22.0</td>\n      <td>0.0</td>\n      <td>0.0</td>\n      <td>0.0</td>\n      <td>0.0</td>\n      <td>0.0</td>\n      <td>100.0</td>\n      <td>0.0</td>\n      <td>176.0</td>\n      <td>0.0</td>\n    </tr>\n    <tr>\n      <th>2023-12-30 23:45:00+01:00</th>\n      <td>144.0</td>\n      <td>0.0</td>\n      <td>31.0</td>\n      <td>0.0</td>\n      <td>0.0</td>\n      <td>0.0</td>\n      <td>0.0</td>\n      <td>0.0</td>\n      <td>0.0</td>\n      <td>0.0</td>\n      <td>...</td>\n      <td>22.0</td>\n      <td>0.0</td>\n      <td>0.0</td>\n      <td>0.0</td>\n      <td>0.0</td>\n      <td>0.0</td>\n      <td>100.0</td>\n      <td>0.0</td>\n      <td>192.0</td>\n      <td>0.0</td>\n    </tr>\n  </tbody>\n</table>\n<p>34944 rows × 26 columns</p>\n</div>"
     },
     "execution_count": 6,
     "metadata": {},
     "output_type": "execute_result"
    }
   ],
   "source": [
    "ensoe_t_at_pickle = pd.read_pickle(\"./entsoe-data-grabber/pickles/entso-e-AT-2023-01-01 00:00:00+01:00_2023-12-31 00:00:00+01:00_AT.pkl\")\n",
    "ensoe_t_at_pickle"
   ],
   "metadata": {
    "collapsed": false,
    "ExecuteTime": {
     "end_time": "2024-11-19T15:53:29.032643Z",
     "start_time": "2024-11-19T15:53:28.937995Z"
    }
   },
   "id": "3a4c42e32b1019ff",
   "execution_count": 6
  },
  {
   "cell_type": "code",
   "outputs": [],
   "source": [],
   "metadata": {
    "collapsed": false
   },
   "id": "9352433f1eb6ed00"
  }
 ],
 "metadata": {
  "kernelspec": {
   "display_name": "Python 3",
   "language": "python",
   "name": "python3"
  },
  "language_info": {
   "codemirror_mode": {
    "name": "ipython",
    "version": 2
   },
   "file_extension": ".py",
   "mimetype": "text/x-python",
   "name": "python",
   "nbconvert_exporter": "python",
   "pygments_lexer": "ipython2",
   "version": "2.7.6"
  }
 },
 "nbformat": 4,
 "nbformat_minor": 5
}
