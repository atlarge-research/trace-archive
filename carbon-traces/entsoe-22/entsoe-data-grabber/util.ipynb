{
 "cells": [
  {
   "cell_type": "code",
   "execution_count": 1,
   "id": "initial_id",
   "metadata": {
    "collapsed": true,
    "ExecuteTime": {
     "end_time": "2024-11-20T10:17:39.713415Z",
     "start_time": "2024-11-20T10:17:39.341660Z"
    }
   },
   "outputs": [],
   "source": [
    "import os\n",
    "import pandas as pd\n",
    "import numpy as np"
   ]
  },
  {
   "cell_type": "code",
   "outputs": [],
   "source": [
    "# read all the parquet files from .parquet directory\n",
    "def read_parquet_files():\n",
    "    i = 0\n",
    "    dataframes = []\n",
    "    for file in os.listdir(\".\"):\n",
    "        print(f\"Reading {file}\")\n",
    "        if (i == 0):\n",
    "            continue\n",
    "        file = pd.read_parquet(file)\n",
    "        dataframes.append(file)\n",
    "        \n",
    "    return dataframes"
   ],
   "metadata": {
    "collapsed": false,
    "ExecuteTime": {
     "end_time": "2024-11-20T10:00:20.872233Z",
     "start_time": "2024-11-20T10:00:20.870409Z"
    }
   },
   "id": "7cd76dbedc1d6c13",
   "execution_count": 2
  },
  {
   "cell_type": "code",
   "outputs": [
    {
     "data": {
      "text/plain": "'/Users/raz/atlarge/trace-archive/carbon-traces/entsoe-22/entsoe-data-grabber'"
     },
     "execution_count": 3,
     "metadata": {},
     "output_type": "execute_result"
    }
   ],
   "source": [
    "os.getcwd()"
   ],
   "metadata": {
    "collapsed": false,
    "ExecuteTime": {
     "end_time": "2024-11-20T10:00:21.438788Z",
     "start_time": "2024-11-20T10:00:21.435279Z"
    }
   },
   "id": "34303b1d169e0adb",
   "execution_count": 3
  },
  {
   "cell_type": "code",
   "outputs": [
    {
     "data": {
      "text/plain": "              ('timestamp', '')  ('carbon_intensity', '')\n0     2023-01-01 00:00:00+01:00                 14.934701\n1     2023-01-01 00:15:00+01:00                 15.042630\n2     2023-01-01 00:30:00+01:00                 15.130440\n3     2023-01-01 00:45:00+01:00                 15.256120\n4     2023-01-01 01:00:00+01:00                 15.398627\n...                         ...                       ...\n34939 2023-12-30 22:45:00+01:00                  7.845513\n34940 2023-12-30 23:00:00+01:00                  8.378335\n34941 2023-12-30 23:15:00+01:00                  8.618783\n34942 2023-12-30 23:30:00+01:00                  8.906850\n34943 2023-12-30 23:45:00+01:00                  9.162724\n\n[34944 rows x 2 columns]",
      "text/html": "<div>\n<style scoped>\n    .dataframe tbody tr th:only-of-type {\n        vertical-align: middle;\n    }\n\n    .dataframe tbody tr th {\n        vertical-align: top;\n    }\n\n    .dataframe thead th {\n        text-align: right;\n    }\n</style>\n<table border=\"1\" class=\"dataframe\">\n  <thead>\n    <tr style=\"text-align: right;\">\n      <th></th>\n      <th>('timestamp', '')</th>\n      <th>('carbon_intensity', '')</th>\n    </tr>\n  </thead>\n  <tbody>\n    <tr>\n      <th>0</th>\n      <td>2023-01-01 00:00:00+01:00</td>\n      <td>14.934701</td>\n    </tr>\n    <tr>\n      <th>1</th>\n      <td>2023-01-01 00:15:00+01:00</td>\n      <td>15.042630</td>\n    </tr>\n    <tr>\n      <th>2</th>\n      <td>2023-01-01 00:30:00+01:00</td>\n      <td>15.130440</td>\n    </tr>\n    <tr>\n      <th>3</th>\n      <td>2023-01-01 00:45:00+01:00</td>\n      <td>15.256120</td>\n    </tr>\n    <tr>\n      <th>4</th>\n      <td>2023-01-01 01:00:00+01:00</td>\n      <td>15.398627</td>\n    </tr>\n    <tr>\n      <th>...</th>\n      <td>...</td>\n      <td>...</td>\n    </tr>\n    <tr>\n      <th>34939</th>\n      <td>2023-12-30 22:45:00+01:00</td>\n      <td>7.845513</td>\n    </tr>\n    <tr>\n      <th>34940</th>\n      <td>2023-12-30 23:00:00+01:00</td>\n      <td>8.378335</td>\n    </tr>\n    <tr>\n      <th>34941</th>\n      <td>2023-12-30 23:15:00+01:00</td>\n      <td>8.618783</td>\n    </tr>\n    <tr>\n      <th>34942</th>\n      <td>2023-12-30 23:30:00+01:00</td>\n      <td>8.906850</td>\n    </tr>\n    <tr>\n      <th>34943</th>\n      <td>2023-12-30 23:45:00+01:00</td>\n      <td>9.162724</td>\n    </tr>\n  </tbody>\n</table>\n<p>34944 rows × 2 columns</p>\n</div>"
     },
     "execution_count": 6,
     "metadata": {},
     "output_type": "execute_result"
    }
   ],
   "source": [
    "file = pd.read_parquet(\"parquets/entso-e-AT-2023_1-2023_12.parquet\")\n",
    "file"
   ],
   "metadata": {
    "collapsed": false,
    "ExecuteTime": {
     "end_time": "2024-11-20T10:00:42.357205Z",
     "start_time": "2024-11-20T10:00:42.304561Z"
    }
   },
   "id": "90f3634fa8d4b8fe",
   "execution_count": 6
  },
  {
   "cell_type": "code",
   "outputs": [
    {
     "data": {
      "text/plain": "             ('timestamp', '')  ('carbon_intensity', '')\n0    2023-01-01 00:00:00+01:00                 24.001769\n1    2023-01-01 01:00:00+01:00                 24.142198\n2    2023-01-01 02:00:00+01:00                 24.217160\n3    2023-01-01 03:00:00+01:00                 23.904093\n4    2023-01-01 04:00:00+01:00                 24.338156\n...                        ...                       ...\n8731 2023-12-30 19:00:00+01:00                 24.425521\n8732 2023-12-30 20:00:00+01:00                 23.488466\n8733 2023-12-30 21:00:00+01:00                 24.815516\n8734 2023-12-30 22:00:00+01:00                 24.614834\n8735 2023-12-30 23:00:00+01:00                 24.414129\n\n[8736 rows x 2 columns]",
      "text/html": "<div>\n<style scoped>\n    .dataframe tbody tr th:only-of-type {\n        vertical-align: middle;\n    }\n\n    .dataframe tbody tr th {\n        vertical-align: top;\n    }\n\n    .dataframe thead th {\n        text-align: right;\n    }\n</style>\n<table border=\"1\" class=\"dataframe\">\n  <thead>\n    <tr style=\"text-align: right;\">\n      <th></th>\n      <th>('timestamp', '')</th>\n      <th>('carbon_intensity', '')</th>\n    </tr>\n  </thead>\n  <tbody>\n    <tr>\n      <th>0</th>\n      <td>2023-01-01 00:00:00+01:00</td>\n      <td>24.001769</td>\n    </tr>\n    <tr>\n      <th>1</th>\n      <td>2023-01-01 01:00:00+01:00</td>\n      <td>24.142198</td>\n    </tr>\n    <tr>\n      <th>2</th>\n      <td>2023-01-01 02:00:00+01:00</td>\n      <td>24.217160</td>\n    </tr>\n    <tr>\n      <th>3</th>\n      <td>2023-01-01 03:00:00+01:00</td>\n      <td>23.904093</td>\n    </tr>\n    <tr>\n      <th>4</th>\n      <td>2023-01-01 04:00:00+01:00</td>\n      <td>24.338156</td>\n    </tr>\n    <tr>\n      <th>...</th>\n      <td>...</td>\n      <td>...</td>\n    </tr>\n    <tr>\n      <th>8731</th>\n      <td>2023-12-30 19:00:00+01:00</td>\n      <td>24.425521</td>\n    </tr>\n    <tr>\n      <th>8732</th>\n      <td>2023-12-30 20:00:00+01:00</td>\n      <td>23.488466</td>\n    </tr>\n    <tr>\n      <th>8733</th>\n      <td>2023-12-30 21:00:00+01:00</td>\n      <td>24.815516</td>\n    </tr>\n    <tr>\n      <th>8734</th>\n      <td>2023-12-30 22:00:00+01:00</td>\n      <td>24.614834</td>\n    </tr>\n    <tr>\n      <th>8735</th>\n      <td>2023-12-30 23:00:00+01:00</td>\n      <td>24.414129</td>\n    </tr>\n  </tbody>\n</table>\n<p>8736 rows × 2 columns</p>\n</div>"
     },
     "execution_count": 3,
     "metadata": {},
     "output_type": "execute_result"
    }
   ],
   "source": [
    "pd.read_parquet(\"parquets/entso-e-BE-2023_1-2023_12.parquet\")"
   ],
   "metadata": {
    "collapsed": false,
    "ExecuteTime": {
     "end_time": "2024-11-20T10:20:28.761067Z",
     "start_time": "2024-11-20T10:20:28.751787Z"
    }
   },
   "id": "76cc7c9e79bbb67",
   "execution_count": 3
  },
  {
   "cell_type": "code",
   "outputs": [],
   "source": [],
   "metadata": {
    "collapsed": false
   },
   "id": "4bea26bc4a70850c"
  }
 ],
 "metadata": {
  "kernelspec": {
   "display_name": "Python 3",
   "language": "python",
   "name": "python3"
  },
  "language_info": {
   "codemirror_mode": {
    "name": "ipython",
    "version": 2
   },
   "file_extension": ".py",
   "mimetype": "text/x-python",
   "name": "python",
   "nbconvert_exporter": "python",
   "pygments_lexer": "ipython2",
   "version": "2.7.6"
  }
 },
 "nbformat": 4,
 "nbformat_minor": 5
}
