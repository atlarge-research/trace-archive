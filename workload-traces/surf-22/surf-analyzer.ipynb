{
 "cells": [
  {
   "cell_type": "code",
   "execution_count": 2,
   "id": "initial_id",
   "metadata": {
    "collapsed": true,
    "ExecuteTime": {
     "end_time": "2024-11-09T19:04:54.036254Z",
     "start_time": "2024-11-09T19:04:53.287847Z"
    }
   },
   "outputs": [],
   "source": [
    "import pandas as pd\n",
    "import numpy as np\n",
    "import matplotlib.pyplot as plt\n",
    "import math\n",
    "\n",
    "MILISECONDS_IN_HOUR = 3600000"
   ]
  },
  {
   "cell_type": "code",
   "outputs": [],
   "source": [
    "fragments = pd.read_parquet(\"fragments.parquet\")\n",
    "tasks = pd.read_parquet(\"tasks.parquet\")"
   ],
   "metadata": {
    "collapsed": false,
    "ExecuteTime": {
     "end_time": "2024-11-09T19:05:51.503530Z",
     "start_time": "2024-11-09T19:05:51.442959Z"
    }
   },
   "id": "f66c34ce2029cf30",
   "execution_count": 11
  },
  {
   "cell_type": "code",
   "outputs": [
    {
     "data": {
      "text/plain": "          duration  cpu_count    cpu_usage\nid                                        \n2132819    2100000       1120     513723.0\n2132820     870000        464      62475.0\n2132821      30000         16      33600.0\n2132822      30000         16      33600.0\n2132823      30000         16      33600.0\n...            ...        ...          ...\n2177927  149430000      79696  159231261.0\n2177928  149430000      79696  159245709.0\n2177929  149430000      79696  159239850.0\n2177951  149400000      79680   10566528.0\n2177952  148680000      79296  147760431.0\n\n[6295 rows x 3 columns]",
      "text/html": "<div>\n<style scoped>\n    .dataframe tbody tr th:only-of-type {\n        vertical-align: middle;\n    }\n\n    .dataframe tbody tr th {\n        vertical-align: top;\n    }\n\n    .dataframe thead th {\n        text-align: right;\n    }\n</style>\n<table border=\"1\" class=\"dataframe\">\n  <thead>\n    <tr style=\"text-align: right;\">\n      <th></th>\n      <th>duration</th>\n      <th>cpu_count</th>\n      <th>cpu_usage</th>\n    </tr>\n    <tr>\n      <th>id</th>\n      <th></th>\n      <th></th>\n      <th></th>\n    </tr>\n  </thead>\n  <tbody>\n    <tr>\n      <th>2132819</th>\n      <td>2100000</td>\n      <td>1120</td>\n      <td>513723.0</td>\n    </tr>\n    <tr>\n      <th>2132820</th>\n      <td>870000</td>\n      <td>464</td>\n      <td>62475.0</td>\n    </tr>\n    <tr>\n      <th>2132821</th>\n      <td>30000</td>\n      <td>16</td>\n      <td>33600.0</td>\n    </tr>\n    <tr>\n      <th>2132822</th>\n      <td>30000</td>\n      <td>16</td>\n      <td>33600.0</td>\n    </tr>\n    <tr>\n      <th>2132823</th>\n      <td>30000</td>\n      <td>16</td>\n      <td>33600.0</td>\n    </tr>\n    <tr>\n      <th>...</th>\n      <td>...</td>\n      <td>...</td>\n      <td>...</td>\n    </tr>\n    <tr>\n      <th>2177927</th>\n      <td>149430000</td>\n      <td>79696</td>\n      <td>159231261.0</td>\n    </tr>\n    <tr>\n      <th>2177928</th>\n      <td>149430000</td>\n      <td>79696</td>\n      <td>159245709.0</td>\n    </tr>\n    <tr>\n      <th>2177929</th>\n      <td>149430000</td>\n      <td>79696</td>\n      <td>159239850.0</td>\n    </tr>\n    <tr>\n      <th>2177951</th>\n      <td>149400000</td>\n      <td>79680</td>\n      <td>10566528.0</td>\n    </tr>\n    <tr>\n      <th>2177952</th>\n      <td>148680000</td>\n      <td>79296</td>\n      <td>147760431.0</td>\n    </tr>\n  </tbody>\n</table>\n<p>6295 rows × 3 columns</p>\n</div>"
     },
     "execution_count": 12,
     "metadata": {},
     "output_type": "execute_result"
    }
   ],
   "source": [
    "fragments = fragments.groupby(\"id\").sum()\n",
    "fragments"
   ],
   "metadata": {
    "collapsed": false,
    "ExecuteTime": {
     "end_time": "2024-11-09T19:05:51.651835Z",
     "start_time": "2024-11-09T19:05:51.555116Z"
    }
   },
   "id": "74f2716ede5a1da3",
   "execution_count": 12
  },
  {
   "cell_type": "code",
   "outputs": [
    {
     "data": {
      "text/plain": "           id     submission_time   duration  cpu_count  cpu_capacity  \\\n0     2133099 2022-10-06 22:00:00   27935000         16       33600.0   \n1     2133100 2022-10-06 22:00:00   27935000         16       33600.0   \n2     2133101 2022-10-06 22:00:00   27935000         16       33600.0   \n3     2133102 2022-10-06 22:00:00   27935000         16       33600.0   \n4     2133111 2022-10-06 22:00:00   27935000         16       33600.0   \n...       ...                 ...        ...        ...           ...   \n7845  2135095 2022-10-06 22:00:00   97864000         16       33600.0   \n7846  2135096 2022-10-06 22:00:00   97864000         16       33600.0   \n7847  2135097 2022-10-06 22:00:00   97864000         16       33600.0   \n7848  2135098 2022-10-06 22:00:00   97864000         16       33600.0   \n7849  2138225 2022-10-06 22:00:00  274603000         16       33600.0   \n\n      mem_capacity  \n0           100000  \n1           100000  \n2           100000  \n3           100000  \n4           100000  \n...            ...  \n7845        100000  \n7846        100000  \n7847        100000  \n7848        100000  \n7849        100000  \n\n[7850 rows x 6 columns]",
      "text/html": "<div>\n<style scoped>\n    .dataframe tbody tr th:only-of-type {\n        vertical-align: middle;\n    }\n\n    .dataframe tbody tr th {\n        vertical-align: top;\n    }\n\n    .dataframe thead th {\n        text-align: right;\n    }\n</style>\n<table border=\"1\" class=\"dataframe\">\n  <thead>\n    <tr style=\"text-align: right;\">\n      <th></th>\n      <th>id</th>\n      <th>submission_time</th>\n      <th>duration</th>\n      <th>cpu_count</th>\n      <th>cpu_capacity</th>\n      <th>mem_capacity</th>\n    </tr>\n  </thead>\n  <tbody>\n    <tr>\n      <th>0</th>\n      <td>2133099</td>\n      <td>2022-10-06 22:00:00</td>\n      <td>27935000</td>\n      <td>16</td>\n      <td>33600.0</td>\n      <td>100000</td>\n    </tr>\n    <tr>\n      <th>1</th>\n      <td>2133100</td>\n      <td>2022-10-06 22:00:00</td>\n      <td>27935000</td>\n      <td>16</td>\n      <td>33600.0</td>\n      <td>100000</td>\n    </tr>\n    <tr>\n      <th>2</th>\n      <td>2133101</td>\n      <td>2022-10-06 22:00:00</td>\n      <td>27935000</td>\n      <td>16</td>\n      <td>33600.0</td>\n      <td>100000</td>\n    </tr>\n    <tr>\n      <th>3</th>\n      <td>2133102</td>\n      <td>2022-10-06 22:00:00</td>\n      <td>27935000</td>\n      <td>16</td>\n      <td>33600.0</td>\n      <td>100000</td>\n    </tr>\n    <tr>\n      <th>4</th>\n      <td>2133111</td>\n      <td>2022-10-06 22:00:00</td>\n      <td>27935000</td>\n      <td>16</td>\n      <td>33600.0</td>\n      <td>100000</td>\n    </tr>\n    <tr>\n      <th>...</th>\n      <td>...</td>\n      <td>...</td>\n      <td>...</td>\n      <td>...</td>\n      <td>...</td>\n      <td>...</td>\n    </tr>\n    <tr>\n      <th>7845</th>\n      <td>2135095</td>\n      <td>2022-10-06 22:00:00</td>\n      <td>97864000</td>\n      <td>16</td>\n      <td>33600.0</td>\n      <td>100000</td>\n    </tr>\n    <tr>\n      <th>7846</th>\n      <td>2135096</td>\n      <td>2022-10-06 22:00:00</td>\n      <td>97864000</td>\n      <td>16</td>\n      <td>33600.0</td>\n      <td>100000</td>\n    </tr>\n    <tr>\n      <th>7847</th>\n      <td>2135097</td>\n      <td>2022-10-06 22:00:00</td>\n      <td>97864000</td>\n      <td>16</td>\n      <td>33600.0</td>\n      <td>100000</td>\n    </tr>\n    <tr>\n      <th>7848</th>\n      <td>2135098</td>\n      <td>2022-10-06 22:00:00</td>\n      <td>97864000</td>\n      <td>16</td>\n      <td>33600.0</td>\n      <td>100000</td>\n    </tr>\n    <tr>\n      <th>7849</th>\n      <td>2138225</td>\n      <td>2022-10-06 22:00:00</td>\n      <td>274603000</td>\n      <td>16</td>\n      <td>33600.0</td>\n      <td>100000</td>\n    </tr>\n  </tbody>\n</table>\n<p>7850 rows × 6 columns</p>\n</div>"
     },
     "execution_count": 13,
     "metadata": {},
     "output_type": "execute_result"
    }
   ],
   "source": [
    "tasks"
   ],
   "metadata": {
    "collapsed": false,
    "ExecuteTime": {
     "end_time": "2024-11-09T19:05:51.745631Z",
     "start_time": "2024-11-09T19:05:51.741529Z"
    }
   },
   "id": "824ff4096b29d23e",
   "execution_count": 13
  },
  {
   "cell_type": "code",
   "outputs": [
    {
     "name": "stdout",
     "output_type": "stream",
     "text": [
      "Total CPU hours: 310237.79555555555\n"
     ]
    }
   ],
   "source": [
    "# Calculate total CPU hours from tasks\n",
    "tasks['cpu_hours'] = (tasks['cpu_count'] * tasks['duration']) / MILISECONDS_IN_HOUR\n",
    "total_cpu_hours = tasks['cpu_hours'].sum()\n",
    "\n",
    "print(f\"Total CPU hours: {total_cpu_hours}\")"
   ],
   "metadata": {
    "collapsed": false,
    "ExecuteTime": {
     "end_time": "2024-11-09T19:05:51.885316Z",
     "start_time": "2024-11-09T19:05:51.882589Z"
    }
   },
   "id": "d71d6159cd30156c",
   "execution_count": 14
  },
  {
   "cell_type": "code",
   "outputs": [
    {
     "name": "stdout",
     "output_type": "stream",
     "text": [
      "Average job duration (h): 2.4700461429582448\n"
     ]
    },
    {
     "data": {
      "text/plain": "{'whiskers': [<matplotlib.lines.Line2D at 0x317427590>,\n  <matplotlib.lines.Line2D at 0x31711db90>],\n 'caps': [<matplotlib.lines.Line2D at 0x31726f310>,\n  <matplotlib.lines.Line2D at 0x31726d110>],\n 'boxes': [<matplotlib.lines.Line2D at 0x317201f50>],\n 'medians': [<matplotlib.lines.Line2D at 0x31726c8d0>],\n 'fliers': [<matplotlib.lines.Line2D at 0x31726e5d0>],\n 'means': []}"
     },
     "execution_count": 15,
     "metadata": {},
     "output_type": "execute_result"
    },
    {
     "data": {
      "text/plain": "<Figure size 640x480 with 1 Axes>",
      "image/png": "[encoded data removed]"
     },
     "metadata": {},
     "output_type": "display_data"
    }
   ],
   "source": [
    "average_job_duration = tasks['duration'].mean()\n",
    "print(f\"Average job duration (h): {average_job_duration / MILISECONDS_IN_HOUR}\")\n",
    "\n",
    "plt.boxplot(tasks['duration'] / MILISECONDS_IN_HOUR, vert=False)"
   ],
   "metadata": {
    "collapsed": false,
    "ExecuteTime": {
     "end_time": "2024-11-09T19:05:52.355449Z",
     "start_time": "2024-11-09T19:05:52.307740Z"
    }
   },
   "id": "b2721d14c0e20248",
   "execution_count": 15
  },
  {
   "cell_type": "code",
   "outputs": [
    {
     "data": {
      "text/plain": "           host  power_draw  energy_usage  timestamp\n0        r27n18        44.0        1320.0      30000\n1        r27n18        44.0        1320.0      60000\n2        r27n18        44.0        1320.0      90000\n3        r27n18        44.0        1320.0     120000\n4        r27n18        44.0        1320.0     150000\n...         ...         ...           ...        ...\n3260563   r27n9        32.0         960.0 -152940000\n3260564   r27n9        32.0         960.0   46980000\n3260565   r27n9        32.0         960.0   35700000\n3260566   r27n9        32.0         960.0 -217920000\n3260567   r27n9        32.0         960.0 -130350000\n\n[5584043 rows x 4 columns]",
      "text/html": "<div>\n<style scoped>\n    .dataframe tbody tr th:only-of-type {\n        vertical-align: middle;\n    }\n\n    .dataframe tbody tr th {\n        vertical-align: top;\n    }\n\n    .dataframe thead th {\n        text-align: right;\n    }\n</style>\n<table border=\"1\" class=\"dataframe\">\n  <thead>\n    <tr style=\"text-align: right;\">\n      <th></th>\n      <th>host</th>\n      <th>power_draw</th>\n      <th>energy_usage</th>\n      <th>timestamp</th>\n    </tr>\n  </thead>\n  <tbody>\n    <tr>\n      <th>0</th>\n      <td>r27n18</td>\n      <td>44.0</td>\n      <td>1320.0</td>\n      <td>30000</td>\n    </tr>\n    <tr>\n      <th>1</th>\n      <td>r27n18</td>\n      <td>44.0</td>\n      <td>1320.0</td>\n      <td>60000</td>\n    </tr>\n    <tr>\n      <th>2</th>\n      <td>r27n18</td>\n      <td>44.0</td>\n      <td>1320.0</td>\n      <td>90000</td>\n    </tr>\n    <tr>\n      <th>3</th>\n      <td>r27n18</td>\n      <td>44.0</td>\n      <td>1320.0</td>\n      <td>120000</td>\n    </tr>\n    <tr>\n      <th>4</th>\n      <td>r27n18</td>\n      <td>44.0</td>\n      <td>1320.0</td>\n      <td>150000</td>\n    </tr>\n    <tr>\n      <th>...</th>\n      <td>...</td>\n      <td>...</td>\n      <td>...</td>\n      <td>...</td>\n    </tr>\n    <tr>\n      <th>3260563</th>\n      <td>r27n9</td>\n      <td>32.0</td>\n      <td>960.0</td>\n      <td>-152940000</td>\n    </tr>\n    <tr>\n      <th>3260564</th>\n      <td>r27n9</td>\n      <td>32.0</td>\n      <td>960.0</td>\n      <td>46980000</td>\n    </tr>\n    <tr>\n      <th>3260565</th>\n      <td>r27n9</td>\n      <td>32.0</td>\n      <td>960.0</td>\n      <td>35700000</td>\n    </tr>\n    <tr>\n      <th>3260566</th>\n      <td>r27n9</td>\n      <td>32.0</td>\n      <td>960.0</td>\n      <td>-217920000</td>\n    </tr>\n    <tr>\n      <th>3260567</th>\n      <td>r27n9</td>\n      <td>32.0</td>\n      <td>960.0</td>\n      <td>-130350000</td>\n    </tr>\n  </tbody>\n</table>\n<p>5584043 rows × 4 columns</p>\n</div>"
     },
     "execution_count": 16,
     "metadata": {},
     "output_type": "execute_result"
    }
   ],
   "source": [
    "validation = pd.read_parquet(\"validation.parquet\")\n",
    "validation"
   ],
   "metadata": {
    "collapsed": false,
    "ExecuteTime": {
     "end_time": "2024-11-09T19:05:52.982985Z",
     "start_time": "2024-11-09T19:05:52.861341Z"
    }
   },
   "id": "19b1cde405d64198",
   "execution_count": 16
  },
  {
   "cell_type": "code",
   "outputs": [
    {
     "data": {
      "text/plain": "         timestamp  timestamp_absolute                               host_id  \\\n0            30000       1665093630000  629bc222-9cef-e94d-0000-00000000011b   \n1            30000       1665093630000  566c318d-9683-8344-0000-000000000226   \n2            30000       1665093630000  46f73c54-f05a-8b8a-0000-000000000170   \n3            30000       1665093630000  08dbf616-bfb4-a567-0000-00000000021d   \n4            30000       1665093630000  ab360cac-f249-3813-0000-0000000001c8   \n...            ...                 ...                                   ...   \n5587085  605070000       1665698670000  8a1f265e-9a16-064f-0000-0000000001ee   \n5587086  605070000       1665698670000  77053a50-d5f4-855e-0000-000000000208   \n5587087  605070000       1665698670000  e6bd9163-9c8d-9aaa-0000-000000000202   \n5587088  605070000       1665698670000  006b8539-9898-c3c4-0000-0000000001f2   \n5587089  605070000       1665698670000  23609c32-689e-afd6-0000-0000000001e7   \n\n        host_name  core_count  mem_capacity  guests_terminated  \\\n0             A01          16     128000000                  0   \n1             A01          16     128000000                  0   \n2             A01          16     128000000                  0   \n3             A01          16     128000000                  0   \n4             A01          16     128000000                  0   \n...           ...         ...           ...                ...   \n5587085       A01          16     128000000                  0   \n5587086       A01          16     128000000                  0   \n5587087       A01          16     128000000                  0   \n5587088       A01          16     128000000                  0   \n5587089       A01          16     128000000                  0   \n\n         guests_running  guests_error  guests_invalid  ...  cpu_time_steal  \\\n0                     1             0               0  ...               0   \n1                     0             0               0  ...               0   \n2                     1             0               0  ...               0   \n3                     0             0               0  ...               0   \n4                     0             0               0  ...               0   \n...                 ...           ...             ...  ...             ...   \n5587085               0             0               0  ...               0   \n5587086               0             0               0  ...               0   \n5587087               0             0               0  ...               0   \n5587088               0             0               0  ...               0   \n5587089               0             0               0  ...               0   \n\n         cpu_time_lost  power_draw  energy_usage  carbon_intensity  \\\n0                    0     174.000       5220.00        152.480506   \n1                    0      25.000        750.00        152.480506   \n2                    0      33.195        995.85        152.480506   \n3                    0      25.000        750.00        152.480506   \n4                    0      25.000        750.00        152.480506   \n...                ...         ...           ...               ...   \n5587085              0      25.000          0.00        199.220248   \n5587086              0      25.000          0.00        199.220248   \n5587087              0      25.000          0.00        199.220248   \n5587088              0      25.000          0.00        199.220248   \n5587089              0      25.000          0.00        199.220248   \n\n         carbon_emission  uptime  downtime      boot_time  boot_time_absolute  \n0               0.221097   30000         0  1665093600000                 NaN  \n1               0.031767   30000         0  1665093600000                 NaN  \n2               0.042180   30000         0  1665093600000                 NaN  \n3               0.031767   30000         0  1665093600000                 NaN  \n4               0.031767   30000         0  1665093600000                 NaN  \n...                  ...     ...       ...            ...                 ...  \n5587085         0.000000       0         0  1665093600000                 NaN  \n5587086         0.000000       0         0  1665093600000                 NaN  \n5587087         0.000000       0         0  1665093600000                 NaN  \n5587088         0.000000       0         0  1665093600000                 NaN  \n5587089         0.000000       0         0  1665093600000                 NaN  \n\n[5587090 rows x 26 columns]",
      "text/html": "<div>\n<style scoped>\n    .dataframe tbody tr th:only-of-type {\n        vertical-align: middle;\n    }\n\n    .dataframe tbody tr th {\n        vertical-align: top;\n    }\n\n    .dataframe thead th {\n        text-align: right;\n    }\n</style>\n<table border=\"1\" class=\"dataframe\">\n  <thead>\n    <tr style=\"text-align: right;\">\n      <th></th>\n      <th>timestamp</th>\n      <th>timestamp_absolute</th>\n      <th>host_id</th>\n      <th>host_name</th>\n      <th>core_count</th>\n      <th>mem_capacity</th>\n      <th>guests_terminated</th>\n      <th>guests_running</th>\n      <th>guests_error</th>\n      <th>guests_invalid</th>\n      <th>...</th>\n      <th>cpu_time_steal</th>\n      <th>cpu_time_lost</th>\n      <th>power_draw</th>\n      <th>energy_usage</th>\n      <th>carbon_intensity</th>\n      <th>carbon_emission</th>\n      <th>uptime</th>\n      <th>downtime</th>\n      <th>boot_time</th>\n      <th>boot_time_absolute</th>\n    </tr>\n  </thead>\n  <tbody>\n    <tr>\n      <th>0</th>\n      <td>30000</td>\n      <td>1665093630000</td>\n      <td>629bc222-9cef-e94d-0000-00000000011b</td>\n      <td>A01</td>\n      <td>16</td>\n      <td>128000000</td>\n      <td>0</td>\n      <td>1</td>\n      <td>0</td>\n      <td>0</td>\n      <td>...</td>\n      <td>0</td>\n      <td>0</td>\n      <td>174.000</td>\n      <td>5220.00</td>\n      <td>152.480506</td>\n      <td>0.221097</td>\n      <td>30000</td>\n      <td>0</td>\n      <td>1665093600000</td>\n      <td>NaN</td>\n    </tr>\n    <tr>\n      <th>1</th>\n      <td>30000</td>\n      <td>1665093630000</td>\n      <td>566c318d-9683-8344-0000-000000000226</td>\n      <td>A01</td>\n      <td>16</td>\n      <td>128000000</td>\n      <td>0</td>\n      <td>0</td>\n      <td>0</td>\n      <td>0</td>\n      <td>...</td>\n      <td>0</td>\n      <td>0</td>\n      <td>25.000</td>\n      <td>750.00</td>\n      <td>152.480506</td>\n      <td>0.031767</td>\n      <td>30000</td>\n      <td>0</td>\n      <td>1665093600000</td>\n      <td>NaN</td>\n    </tr>\n    <tr>\n      <th>2</th>\n      <td>30000</td>\n      <td>1665093630000</td>\n      <td>46f73c54-f05a-8b8a-0000-000000000170</td>\n      <td>A01</td>\n      <td>16</td>\n      <td>128000000</td>\n      <td>0</td>\n      <td>1</td>\n      <td>0</td>\n      <td>0</td>\n      <td>...</td>\n      <td>0</td>\n      <td>0</td>\n      <td>33.195</td>\n      <td>995.85</td>\n      <td>152.480506</td>\n      <td>0.042180</td>\n      <td>30000</td>\n      <td>0</td>\n      <td>1665093600000</td>\n      <td>NaN</td>\n    </tr>\n    <tr>\n      <th>3</th>\n      <td>30000</td>\n      <td>1665093630000</td>\n      <td>08dbf616-bfb4-a567-0000-00000000021d</td>\n      <td>A01</td>\n      <td>16</td>\n      <td>128000000</td>\n      <td>0</td>\n      <td>0</td>\n      <td>0</td>\n      <td>0</td>\n      <td>...</td>\n      <td>0</td>\n      <td>0</td>\n      <td>25.000</td>\n      <td>750.00</td>\n      <td>152.480506</td>\n      <td>0.031767</td>\n      <td>30000</td>\n      <td>0</td>\n      <td>1665093600000</td>\n      <td>NaN</td>\n    </tr>\n    <tr>\n      <th>4</th>\n      <td>30000</td>\n      <td>1665093630000</td>\n      <td>ab360cac-f249-3813-0000-0000000001c8</td>\n      <td>A01</td>\n      <td>16</td>\n      <td>128000000</td>\n      <td>0</td>\n      <td>0</td>\n      <td>0</td>\n      <td>0</td>\n      <td>...</td>\n      <td>0</td>\n      <td>0</td>\n      <td>25.000</td>\n      <td>750.00</td>\n      <td>152.480506</td>\n      <td>0.031767</td>\n      <td>30000</td>\n      <td>0</td>\n      <td>1665093600000</td>\n      <td>NaN</td>\n    </tr>\n    <tr>\n      <th>...</th>\n      <td>...</td>\n      <td>...</td>\n      <td>...</td>\n      <td>...</td>\n      <td>...</td>\n      <td>...</td>\n      <td>...</td>\n      <td>...</td>\n      <td>...</td>\n      <td>...</td>\n      <td>...</td>\n      <td>...</td>\n      <td>...</td>\n      <td>...</td>\n      <td>...</td>\n      <td>...</td>\n      <td>...</td>\n      <td>...</td>\n      <td>...</td>\n      <td>...</td>\n      <td>...</td>\n    </tr>\n    <tr>\n      <th>5587085</th>\n      <td>605070000</td>\n      <td>1665698670000</td>\n      <td>8a1f265e-9a16-064f-0000-0000000001ee</td>\n      <td>A01</td>\n      <td>16</td>\n      <td>128000000</td>\n      <td>0</td>\n      <td>0</td>\n      <td>0</td>\n      <td>0</td>\n      <td>...</td>\n      <td>0</td>\n      <td>0</td>\n      <td>25.000</td>\n      <td>0.00</td>\n      <td>199.220248</td>\n      <td>0.000000</td>\n      <td>0</td>\n      <td>0</td>\n      <td>1665093600000</td>\n      <td>NaN</td>\n    </tr>\n    <tr>\n      <th>5587086</th>\n      <td>605070000</td>\n      <td>1665698670000</td>\n      <td>77053a50-d5f4-855e-0000-000000000208</td>\n      <td>A01</td>\n      <td>16</td>\n      <td>128000000</td>\n      <td>0</td>\n      <td>0</td>\n      <td>0</td>\n      <td>0</td>\n      <td>...</td>\n      <td>0</td>\n      <td>0</td>\n      <td>25.000</td>\n      <td>0.00</td>\n      <td>199.220248</td>\n      <td>0.000000</td>\n      <td>0</td>\n      <td>0</td>\n      <td>1665093600000</td>\n      <td>NaN</td>\n    </tr>\n    <tr>\n      <th>5587087</th>\n      <td>605070000</td>\n      <td>1665698670000</td>\n      <td>e6bd9163-9c8d-9aaa-0000-000000000202</td>\n      <td>A01</td>\n      <td>16</td>\n      <td>128000000</td>\n      <td>0</td>\n      <td>0</td>\n      <td>0</td>\n      <td>0</td>\n      <td>...</td>\n      <td>0</td>\n      <td>0</td>\n      <td>25.000</td>\n      <td>0.00</td>\n      <td>199.220248</td>\n      <td>0.000000</td>\n      <td>0</td>\n      <td>0</td>\n      <td>1665093600000</td>\n      <td>NaN</td>\n    </tr>\n    <tr>\n      <th>5587088</th>\n      <td>605070000</td>\n      <td>1665698670000</td>\n      <td>006b8539-9898-c3c4-0000-0000000001f2</td>\n      <td>A01</td>\n      <td>16</td>\n      <td>128000000</td>\n      <td>0</td>\n      <td>0</td>\n      <td>0</td>\n      <td>0</td>\n      <td>...</td>\n      <td>0</td>\n      <td>0</td>\n      <td>25.000</td>\n      <td>0.00</td>\n      <td>199.220248</td>\n      <td>0.000000</td>\n      <td>0</td>\n      <td>0</td>\n      <td>1665093600000</td>\n      <td>NaN</td>\n    </tr>\n    <tr>\n      <th>5587089</th>\n      <td>605070000</td>\n      <td>1665698670000</td>\n      <td>23609c32-689e-afd6-0000-0000000001e7</td>\n      <td>A01</td>\n      <td>16</td>\n      <td>128000000</td>\n      <td>0</td>\n      <td>0</td>\n      <td>0</td>\n      <td>0</td>\n      <td>...</td>\n      <td>0</td>\n      <td>0</td>\n      <td>25.000</td>\n      <td>0.00</td>\n      <td>199.220248</td>\n      <td>0.000000</td>\n      <td>0</td>\n      <td>0</td>\n      <td>1665093600000</td>\n      <td>NaN</td>\n    </tr>\n  </tbody>\n</table>\n<p>5587090 rows × 26 columns</p>\n</div>"
     },
     "execution_count": 17,
     "metadata": {},
     "output_type": "execute_result"
    }
   ],
   "source": [
    "host = pd.read_parquet('host.parquet')\n",
    "host"
   ],
   "metadata": {
    "collapsed": false,
    "ExecuteTime": {
     "end_time": "2024-11-09T19:05:55.496932Z",
     "start_time": "2024-11-09T19:05:54.057326Z"
    }
   },
   "id": "f5b3ccae843b5b16",
   "execution_count": 17
  },
  {
   "cell_type": "code",
   "outputs": [],
   "source": [
    "# Load the dataset\n",
    "validation = pd.read_parquet(\"surfsara-validation.parquet\")\n",
    "validation = validation.groupby('timestamp').sum().reset_index()\n",
    "\n",
    "validation['timestamp'] = pd.to_datetime(validation['timestamp'])\n",
    "\n",
    "ref_time = validation['timestamp'].iloc[0]\n",
    "validation['milliseconds'] = (validation['timestamp'] - ref_time).dt.total_seconds() * 1000 + 30000\n",
    "\n",
    "validation.rename(columns={'timestamp': 'timestamp-date-time', 'milliseconds': 'timestamp'}, inplace=True)\n",
    "\n",
    "# Convert 'timestamp' column to int64 for storing large integers\n",
    "validation['timestamp'] = validation['timestamp'].astype(int)\n",
    "\n",
    "# remove the column datetime\n",
    "validation.drop(columns=['timestamp-date-time'], inplace=True)\n",
    "\n",
    "validation.to_parquet(\"validation.parquet\")"
   ],
   "metadata": {
    "collapsed": false,
    "ExecuteTime": {
     "end_time": "2024-11-09T19:14:36.920933Z",
     "start_time": "2024-11-09T19:14:35.351412Z"
    }
   },
   "id": "601447eb33256cbf",
   "execution_count": 50
  },
  {
   "cell_type": "code",
   "outputs": [],
   "source": [],
   "metadata": {
    "collapsed": false
   },
   "id": "35abbaa0f17fdc43"
  }
 ],
 "metadata": {
  "kernelspec": {
   "display_name": "Python 3",
   "language": "python",
   "name": "python3"
  },
  "language_info": {
   "codemirror_mode": {
    "name": "ipython",
    "version": 2
   },
   "file_extension": ".py",
   "mimetype": "text/x-python",
   "name": "python",
   "nbconvert_exporter": "python",
   "pygments_lexer": "ipython2",
   "version": "2.7.6"
  }
 },
 "nbformat": 4,
 "nbformat_minor": 5
}
