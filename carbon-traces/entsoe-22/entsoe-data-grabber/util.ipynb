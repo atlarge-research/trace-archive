{
 "cells": [
  {
   "cell_type": "code",
   "execution_count": 1,
   "id": "initial_id",
   "metadata": {
    "collapsed": true,
    "ExecuteTime": {
     "end_time": "2024-11-22T23:44:19.302892Z",
     "start_time": "2024-11-22T23:44:18.903333Z"
    }
   },
   "outputs": [],
   "source": [
    "import os\n",
    "import pandas as pd\n",
    "import numpy as np"
   ]
  },
  {
   "cell_type": "code",
   "outputs": [],
   "source": [
    "def load_data():\n",
    "    for file in os.listdir('parquets'):\n",
    "        print(f\"parquets/{file}\")\n",
    "        try:\n",
    "            dataset = pd.read_parquet(f\"parquets/{file}\")\n",
    "            dataset.columns = ['timestamp', 'carbon_intensity']\n",
    "            # override the file with the new column names\n",
    "            dataset.to_parquet(f\"parquets/{file}\")\n",
    "        except Exception as e:\n",
    "            print(f\"Error: parquets/{file}\")\n",
    "            continue"
   ],
   "metadata": {
    "collapsed": false,
    "ExecuteTime": {
     "end_time": "2024-11-22T23:44:19.307887Z",
     "start_time": "2024-11-22T23:44:19.304918Z"
    }
   },
   "id": "4bea26bc4a70850c",
   "execution_count": 2
  },
  {
   "cell_type": "code",
   "outputs": [
    {
     "name": "stdout",
     "output_type": "stream",
     "text": [
      "parquets/entso-e-DE-2023_1-2023_12.parquet\n",
      "parquets/entso-e-DK-2023_1-2023_12.parquet\n",
      "Error: parquets/entso-e-DK-2023_1-2023_12.parquet\n",
      "parquets/entso-e-FR-2023_1-2023_12.parquet\n",
      "parquets/entso-e-ES-2023_1-2023_12.parquet\n",
      "parquets/entso-e-RO-2023_1-2023_12.parquet\n",
      "Error: parquets/entso-e-RO-2023_1-2023_12.parquet\n",
      "parquets/entso-e-CH-2023_1-2023_12.parquet\n",
      "Error: parquets/entso-e-CH-2023_1-2023_12.parquet\n",
      "parquets/entso-e-AT-2023_1-2023_12.parquet\n",
      "parquets/carbon_2022.parquet\n",
      "parquets/entso-e-PT-2023_1-2023_12.parquet\n",
      "parquets/entso-e-CZ-2023_1-2023_12.parquet\n",
      "parquets/entso-e-NO-2023_1-2023_12.parquet\n",
      "Error: parquets/entso-e-NO-2023_1-2023_12.parquet\n",
      "parquets/entso-e-SI-2023_1-2023_12.parquet\n",
      "Error: parquets/entso-e-SI-2023_1-2023_12.parquet\n",
      "parquets/entso-e-LT-2023_1-2023_12.parquet\n",
      "parquets/entso-e-PL-2023_1-2023_12.parquet\n",
      "Error: parquets/entso-e-PL-2023_1-2023_12.parquet\n",
      "parquets/entso-e-RS-2023_1-2023_12.parquet\n",
      "Error: parquets/entso-e-RS-2023_1-2023_12.parquet\n",
      "parquets/entso-e-EE-2023_1-2023_12.parquet\n",
      "Error: parquets/entso-e-EE-2023_1-2023_12.parquet\n",
      "parquets/entso-e-FI-2023_1-2023_12.parquet\n",
      "Error: parquets/entso-e-FI-2023_1-2023_12.parquet\n",
      "parquets/entso-e-NL-2023_1-2023_12.parquet\n",
      "parquets/entso-e-BG-2023_1-2023_12.parquet\n",
      "Error: parquets/entso-e-BG-2023_1-2023_12.parquet\n",
      "parquets/entso-e-SK-2023_1-2023_12.parquet\n",
      "parquets/entso-e-IE-2023_1-2023_12.parquet\n",
      "parquets/entso-e-MK-2023_1-2023_12.parquet\n",
      "Error: parquets/entso-e-MK-2023_1-2023_12.parquet\n",
      "parquets/entso-e-LU-2023_1-2023_12.parquet\n",
      "Error: parquets/entso-e-LU-2023_1-2023_12.parquet\n",
      "parquets/entso-e-SE-2023_1-2023_12.parquet\n",
      "Error: parquets/entso-e-SE-2023_1-2023_12.parquet\n",
      "parquets/entso-e-HR-2023_1-2023_12.parquet\n",
      "parquets/entso-e-LV-2023_1-2023_12.parquet\n",
      "Error: parquets/entso-e-LV-2023_1-2023_12.parquet\n",
      "parquets/entso-e-GR-2023_1-2023_12.parquet\n",
      "Error: parquets/entso-e-GR-2023_1-2023_12.parquet\n",
      "parquets/entso-e-HU-2023_1-2023_12.parquet\n",
      "parquets/entso-e-BE-2023_1-2023_12.parquet\n",
      "parquets/entso-e-ME-2023_1-2023_12.parquet\n",
      "Error: parquets/entso-e-ME-2023_1-2023_12.parquet\n"
     ]
    }
   ],
   "source": [
    "load_data()"
   ],
   "metadata": {
    "collapsed": false,
    "ExecuteTime": {
     "end_time": "2024-11-20T11:11:53.822090Z",
     "start_time": "2024-11-20T11:11:53.731342Z"
    }
   },
   "id": "5aa09a639729d14",
   "execution_count": 13
  },
  {
   "cell_type": "code",
   "outputs": [
    {
     "data": {
      "text/plain": "                timestamp  carbon_intensity\n0     2021-12-31 23:00:00        168.138693\n1     2021-12-31 23:15:00        167.050014\n2     2021-12-31 23:30:00        164.552936\n3     2021-12-31 23:45:00        167.493769\n4     2022-01-01 00:00:00        164.517793\n...                   ...               ...\n34939 2022-12-30 21:45:00         91.855611\n34940 2022-12-30 22:00:00         91.849933\n34941 2022-12-30 22:15:00         93.020656\n34942 2022-12-30 22:30:00         93.370508\n34943 2022-12-30 22:45:00         94.498418\n\n[34944 rows x 2 columns]",
      "text/html": "<div>\n<style scoped>\n    .dataframe tbody tr th:only-of-type {\n        vertical-align: middle;\n    }\n\n    .dataframe tbody tr th {\n        vertical-align: top;\n    }\n\n    .dataframe thead th {\n        text-align: right;\n    }\n</style>\n<table border=\"1\" class=\"dataframe\">\n  <thead>\n    <tr style=\"text-align: right;\">\n      <th></th>\n      <th>timestamp</th>\n      <th>carbon_intensity</th>\n    </tr>\n  </thead>\n  <tbody>\n    <tr>\n      <th>0</th>\n      <td>2021-12-31 23:00:00</td>\n      <td>168.138693</td>\n    </tr>\n    <tr>\n      <th>1</th>\n      <td>2021-12-31 23:15:00</td>\n      <td>167.050014</td>\n    </tr>\n    <tr>\n      <th>2</th>\n      <td>2021-12-31 23:30:00</td>\n      <td>164.552936</td>\n    </tr>\n    <tr>\n      <th>3</th>\n      <td>2021-12-31 23:45:00</td>\n      <td>167.493769</td>\n    </tr>\n    <tr>\n      <th>4</th>\n      <td>2022-01-01 00:00:00</td>\n      <td>164.517793</td>\n    </tr>\n    <tr>\n      <th>...</th>\n      <td>...</td>\n      <td>...</td>\n    </tr>\n    <tr>\n      <th>34939</th>\n      <td>2022-12-30 21:45:00</td>\n      <td>91.855611</td>\n    </tr>\n    <tr>\n      <th>34940</th>\n      <td>2022-12-30 22:00:00</td>\n      <td>91.849933</td>\n    </tr>\n    <tr>\n      <th>34941</th>\n      <td>2022-12-30 22:15:00</td>\n      <td>93.020656</td>\n    </tr>\n    <tr>\n      <th>34942</th>\n      <td>2022-12-30 22:30:00</td>\n      <td>93.370508</td>\n    </tr>\n    <tr>\n      <th>34943</th>\n      <td>2022-12-30 22:45:00</td>\n      <td>94.498418</td>\n    </tr>\n  </tbody>\n</table>\n<p>34944 rows × 2 columns</p>\n</div>"
     },
     "execution_count": 8,
     "metadata": {},
     "output_type": "execute_result"
    }
   ],
   "source": [
    "pd.read_parquet(\"parquets/carbon_2022.parquet\")"
   ],
   "metadata": {
    "collapsed": false
   },
   "id": "d8fd3cc829ff60c8",
   "execution_count": 8
  },
  {
   "cell_type": "code",
   "outputs": [
    {
     "data": {
      "text/plain": "              ('timestamp', '')  ('carbon_intensity', '')\n0     2023-01-01 00:00:00+01:00                 14.934701\n1     2023-01-01 00:15:00+01:00                 15.042630\n2     2023-01-01 00:30:00+01:00                 15.130440\n3     2023-01-01 00:45:00+01:00                 15.256120\n4     2023-01-01 01:00:00+01:00                 15.398627\n...                         ...                       ...\n34939 2023-12-30 22:45:00+01:00                  7.845513\n34940 2023-12-30 23:00:00+01:00                  8.378335\n34941 2023-12-30 23:15:00+01:00                  8.618783\n34942 2023-12-30 23:30:00+01:00                  8.906850\n34943 2023-12-30 23:45:00+01:00                  9.162724\n\n[34944 rows x 2 columns]",
      "text/html": "<div>\n<style scoped>\n    .dataframe tbody tr th:only-of-type {\n        vertical-align: middle;\n    }\n\n    .dataframe tbody tr th {\n        vertical-align: top;\n    }\n\n    .dataframe thead th {\n        text-align: right;\n    }\n</style>\n<table border=\"1\" class=\"dataframe\">\n  <thead>\n    <tr style=\"text-align: right;\">\n      <th></th>\n      <th>('timestamp', '')</th>\n      <th>('carbon_intensity', '')</th>\n    </tr>\n  </thead>\n  <tbody>\n    <tr>\n      <th>0</th>\n      <td>2023-01-01 00:00:00+01:00</td>\n      <td>14.934701</td>\n    </tr>\n    <tr>\n      <th>1</th>\n      <td>2023-01-01 00:15:00+01:00</td>\n      <td>15.042630</td>\n    </tr>\n    <tr>\n      <th>2</th>\n      <td>2023-01-01 00:30:00+01:00</td>\n      <td>15.130440</td>\n    </tr>\n    <tr>\n      <th>3</th>\n      <td>2023-01-01 00:45:00+01:00</td>\n      <td>15.256120</td>\n    </tr>\n    <tr>\n      <th>4</th>\n      <td>2023-01-01 01:00:00+01:00</td>\n      <td>15.398627</td>\n    </tr>\n    <tr>\n      <th>...</th>\n      <td>...</td>\n      <td>...</td>\n    </tr>\n    <tr>\n      <th>34939</th>\n      <td>2023-12-30 22:45:00+01:00</td>\n      <td>7.845513</td>\n    </tr>\n    <tr>\n      <th>34940</th>\n      <td>2023-12-30 23:00:00+01:00</td>\n      <td>8.378335</td>\n    </tr>\n    <tr>\n      <th>34941</th>\n      <td>2023-12-30 23:15:00+01:00</td>\n      <td>8.618783</td>\n    </tr>\n    <tr>\n      <th>34942</th>\n      <td>2023-12-30 23:30:00+01:00</td>\n      <td>8.906850</td>\n    </tr>\n    <tr>\n      <th>34943</th>\n      <td>2023-12-30 23:45:00+01:00</td>\n      <td>9.162724</td>\n    </tr>\n  </tbody>\n</table>\n<p>34944 rows × 2 columns</p>\n</div>"
     },
     "execution_count": 9,
     "metadata": {},
     "output_type": "execute_result"
    }
   ],
   "source": [
    "pd.read_parquet(\"parquets/entso-e-AT-2023_1-2023_12.parquet\")"
   ],
   "metadata": {
    "collapsed": false
   },
   "id": "f5a4bfa584bac9b0",
   "execution_count": 9
  },
  {
   "cell_type": "code",
   "outputs": [
    {
     "data": {
      "text/plain": "       Biomass  Fossil Brown coal/Lignite  Fossil Gas  Fossil Hard coal  \\\n0         32.0                      867.0      1395.0               0.0   \n1         32.0                      880.0      1406.0               0.0   \n2         32.0                      872.0      1395.0               0.0   \n3         32.0                      873.0      1393.0               0.0   \n4         32.0                      873.0      1393.0               0.0   \n...        ...                        ...         ...               ...   \n34932     32.0                     1007.0      1634.0               0.0   \n34933     31.0                     1016.0      1652.0               0.0   \n34934     31.0                     1012.0      1639.0               0.0   \n34935     32.0                      995.0      1617.0               0.0   \n34936     32.0                      972.0      1584.0               0.0   \n\n       Hydro Run-of-river and poundage  Hydro Water Reservoir  Nuclear  Solar  \\\n0                               1049.0                   44.0   1409.0    0.0   \n1                               1055.0                   44.0   1409.0    0.0   \n2                               1131.0                   44.0   1409.0    0.0   \n3                               1140.0                   44.0   1409.0    0.0   \n4                                960.0                   42.0   1409.0    0.0   \n...                                ...                    ...      ...    ...   \n34932                           1557.0                  834.0   1396.0    0.0   \n34933                           1231.0                  688.0   1396.0    0.0   \n34934                           1141.0                  646.0   1397.0    0.0   \n34935                           1142.0                  597.0   1396.0    0.0   \n34936                           1141.0                  541.0   1396.0    0.0   \n\n       Wind Onshore  total_energy  \n0            1003.0        5799.0  \n1            1015.0        5841.0  \n2            1041.0        5924.0  \n3            1050.0        5941.0  \n4            1081.0        5790.0  \n...             ...           ...  \n34932         556.0        7016.0  \n34933         573.0        6587.0  \n34934         600.0        6466.0  \n34935         645.0        6424.0  \n34936         682.0        6348.0  \n\n[34937 rows x 10 columns]",
      "text/html": "<div>\n<style scoped>\n    .dataframe tbody tr th:only-of-type {\n        vertical-align: middle;\n    }\n\n    .dataframe tbody tr th {\n        vertical-align: top;\n    }\n\n    .dataframe thead th {\n        text-align: right;\n    }\n</style>\n<table border=\"1\" class=\"dataframe\">\n  <thead>\n    <tr style=\"text-align: right;\">\n      <th></th>\n      <th>Biomass</th>\n      <th>Fossil Brown coal/Lignite</th>\n      <th>Fossil Gas</th>\n      <th>Fossil Hard coal</th>\n      <th>Hydro Run-of-river and poundage</th>\n      <th>Hydro Water Reservoir</th>\n      <th>Nuclear</th>\n      <th>Solar</th>\n      <th>Wind Onshore</th>\n      <th>total_energy</th>\n    </tr>\n  </thead>\n  <tbody>\n    <tr>\n      <th>0</th>\n      <td>32.0</td>\n      <td>867.0</td>\n      <td>1395.0</td>\n      <td>0.0</td>\n      <td>1049.0</td>\n      <td>44.0</td>\n      <td>1409.0</td>\n      <td>0.0</td>\n      <td>1003.0</td>\n      <td>5799.0</td>\n    </tr>\n    <tr>\n      <th>1</th>\n      <td>32.0</td>\n      <td>880.0</td>\n      <td>1406.0</td>\n      <td>0.0</td>\n      <td>1055.0</td>\n      <td>44.0</td>\n      <td>1409.0</td>\n      <td>0.0</td>\n      <td>1015.0</td>\n      <td>5841.0</td>\n    </tr>\n    <tr>\n      <th>2</th>\n      <td>32.0</td>\n      <td>872.0</td>\n      <td>1395.0</td>\n      <td>0.0</td>\n      <td>1131.0</td>\n      <td>44.0</td>\n      <td>1409.0</td>\n      <td>0.0</td>\n      <td>1041.0</td>\n      <td>5924.0</td>\n    </tr>\n    <tr>\n      <th>3</th>\n      <td>32.0</td>\n      <td>873.0</td>\n      <td>1393.0</td>\n      <td>0.0</td>\n      <td>1140.0</td>\n      <td>44.0</td>\n      <td>1409.0</td>\n      <td>0.0</td>\n      <td>1050.0</td>\n      <td>5941.0</td>\n    </tr>\n    <tr>\n      <th>4</th>\n      <td>32.0</td>\n      <td>873.0</td>\n      <td>1393.0</td>\n      <td>0.0</td>\n      <td>960.0</td>\n      <td>42.0</td>\n      <td>1409.0</td>\n      <td>0.0</td>\n      <td>1081.0</td>\n      <td>5790.0</td>\n    </tr>\n    <tr>\n      <th>...</th>\n      <td>...</td>\n      <td>...</td>\n      <td>...</td>\n      <td>...</td>\n      <td>...</td>\n      <td>...</td>\n      <td>...</td>\n      <td>...</td>\n      <td>...</td>\n      <td>...</td>\n    </tr>\n    <tr>\n      <th>34932</th>\n      <td>32.0</td>\n      <td>1007.0</td>\n      <td>1634.0</td>\n      <td>0.0</td>\n      <td>1557.0</td>\n      <td>834.0</td>\n      <td>1396.0</td>\n      <td>0.0</td>\n      <td>556.0</td>\n      <td>7016.0</td>\n    </tr>\n    <tr>\n      <th>34933</th>\n      <td>31.0</td>\n      <td>1016.0</td>\n      <td>1652.0</td>\n      <td>0.0</td>\n      <td>1231.0</td>\n      <td>688.0</td>\n      <td>1396.0</td>\n      <td>0.0</td>\n      <td>573.0</td>\n      <td>6587.0</td>\n    </tr>\n    <tr>\n      <th>34934</th>\n      <td>31.0</td>\n      <td>1012.0</td>\n      <td>1639.0</td>\n      <td>0.0</td>\n      <td>1141.0</td>\n      <td>646.0</td>\n      <td>1397.0</td>\n      <td>0.0</td>\n      <td>600.0</td>\n      <td>6466.0</td>\n    </tr>\n    <tr>\n      <th>34935</th>\n      <td>32.0</td>\n      <td>995.0</td>\n      <td>1617.0</td>\n      <td>0.0</td>\n      <td>1142.0</td>\n      <td>597.0</td>\n      <td>1396.0</td>\n      <td>0.0</td>\n      <td>645.0</td>\n      <td>6424.0</td>\n    </tr>\n    <tr>\n      <th>34936</th>\n      <td>32.0</td>\n      <td>972.0</td>\n      <td>1584.0</td>\n      <td>0.0</td>\n      <td>1141.0</td>\n      <td>541.0</td>\n      <td>1396.0</td>\n      <td>0.0</td>\n      <td>682.0</td>\n      <td>6348.0</td>\n    </tr>\n  </tbody>\n</table>\n<p>34937 rows × 10 columns</p>\n</div>"
     },
     "execution_count": 4,
     "metadata": {},
     "output_type": "execute_result"
    }
   ],
   "source": [
    "pd.read_parquet(\"parquets/entso-e-RO-2023_1-2023_12.parquet\")"
   ],
   "metadata": {
    "collapsed": false
   },
   "id": "b3c1d4cc28b9b870",
   "execution_count": 4
  },
  {
   "cell_type": "code",
   "outputs": [],
   "source": [
    "def add_carbon_intensity(df, emission_factors):\n",
    "    # Calculate total energy and carbon usage\n",
    "    df['total_energy'] = df[[col for col in df.columns if col != 'total_energy']].sum(axis=1)\n",
    "    df['carbon_usage'] = 0\n",
    "    \n",
    "    for source, factor in emission_factors.items():\n",
    "        df['carbon_usage'] += df[source] * factor\n",
    "    \n",
    "    # Compute carbon intensity: grams of CO2 per kWh\n",
    "    df['carbon_intensity'] = df['carbon_usage'] / df['total_energy']\n",
    "    \n",
    "    return df\n",
    "\n",
    "\n",
    "add_carbon_intensity(pd.read_parquet(\"parquets/entso-e-RO-2023_1-2023_12.parquet\")"
   ],
   "metadata": {
    "collapsed": false
   },
   "id": "2492561dbe3ef8f6"
  }
 ],
 "metadata": {
  "kernelspec": {
   "display_name": "Python 3",
   "language": "python",
   "name": "python3"
  },
  "language_info": {
   "codemirror_mode": {
    "name": "ipython",
    "version": 2
   },
   "file_extension": ".py",
   "mimetype": "text/x-python",
   "name": "python",
   "nbconvert_exporter": "python",
   "pygments_lexer": "ipython2",
   "version": "2.7.6"
  }
 },
 "nbformat": 4,
 "nbformat_minor": 5
}
